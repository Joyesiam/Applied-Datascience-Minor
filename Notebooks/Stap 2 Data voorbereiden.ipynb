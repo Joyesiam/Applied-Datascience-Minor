{
 "cells": [
  {
   "cell_type": "markdown",
   "id": "e0955fbd",
   "metadata": {},
   "source": [
    "# Date voorbereiden"
   ]
  },
  {
   "cell_type": "code",
   "execution_count": 15,
   "id": "88e0fc85",
   "metadata": {},
   "outputs": [],
   "source": [
    "#Libaries importeren\n",
    "import pandas as pd\n",
    "import numpy as np\n",
    "from fuzzywuzzy import fuzz"
   ]
  },
  {
   "cell_type": "code",
   "execution_count": 26,
   "id": "679a3723",
   "metadata": {},
   "outputs": [],
   "source": [
    "#Lijst maken met alle recepten zonder noten -> csv was al door Martti gemaakt\n",
    "recepten_df=pd.read_csv(\"Generated Datasets/Filter_noten_maaltijd_DF.csv\")\n",
    "recepten_zonder_noten = recepten_df.iloc[:,0].tolist()"
   ]
  },
  {
   "cell_type": "code",
   "execution_count": 110,
   "id": "1f847a9a",
   "metadata": {},
   "outputs": [
    {
     "name": "stdout",
     "output_type": "stream",
     "text": [
      "#recepten: 71809\n"
     ]
    }
   ],
   "source": [
    "#Data ophalen\n",
    "tags = pd.read_csv('/data/foodboost/tags.csv')\n",
    "ingr = pd.read_csv('/data/foodboost/ingredients.csv')\n",
    "print(\"#recepten:\", len(ingr.axes[0]))"
   ]
  },
  {
   "cell_type": "markdown",
   "id": "3cd6402c",
   "metadata": {},
   "source": [
    "## Filteren op maaltijd (lunch en diner) en noten"
   ]
  },
  {
   "cell_type": "code",
   "execution_count": 111,
   "id": "80e07107",
   "metadata": {},
   "outputs": [
    {
     "name": "stdout",
     "output_type": "stream",
     "text": [
      "#recepten: 4593\n"
     ]
    }
   ],
   "source": [
    "#toegestaande tags\n",
    "tagsmaal= ['lunch','diner','hoofdgerecht']\n",
    "#filteren op die tags en elk recept \n",
    "recepten_lunch_diner = tags[tags['tag'].str.contains('|'.join(tagsmaal))]\n",
    "recepten_lunch_diner = list(recepten_lunch_diner[\"recipe\"].unique())\n",
    "\n",
    "#recepten zowel zonder noten als de juiste maaltijd\n",
    "recepten_zonder_noten_lunch_diner = [value for value in recepten_lunch_diner if value in recepten_zonder_noten]\n",
    "print(\"#recepten:\", len(recepten_zonder_noten_lunch_diner))"
   ]
  },
  {
   "cell_type": "markdown",
   "id": "26c942ad",
   "metadata": {},
   "source": [
    "## Ingrediënten pivot tabel maken"
   ]
  },
  {
   "cell_type": "code",
   "execution_count": 112,
   "id": "769e3688",
   "metadata": {},
   "outputs": [
    {
     "name": "stderr",
     "output_type": "stream",
     "text": [
      "/tmp/ipykernel_30242/3269571354.py:2: UserWarning: This pattern is interpreted as a regular expression, and has match groups. To actually get the groups, use str.extract.\n",
      "  ingr = ingr[ingr['recipe'].str.contains('|'.join(recepten_zonder_noten_lunch_diner))]\n"
     ]
    },
    {
     "name": "stdout",
     "output_type": "stream",
     "text": [
      "#recepten: 40746\n"
     ]
    }
   ],
   "source": [
    "#Ingrediënten van de recepten zonder noten en alleen lunch en diner\n",
    "ingr = ingr[ingr['recipe'].str.contains('|'.join(recepten_zonder_noten_lunch_diner))]\n",
    "print(\"#recepten:\", len(ingr.axes[0]))"
   ]
  },
  {
   "cell_type": "code",
   "execution_count": 115,
   "id": "a71a3c3e",
   "metadata": {},
   "outputs": [
    {
     "name": "stdout",
     "output_type": "stream",
     "text": [
      "#recepten: 4616\n",
      "#ingrediënten: 5100\n"
     ]
    }
   ],
   "source": [
    "#Een pivot tabel maken \n",
    "ingr_pivot = ingr.pivot_table(values=\"recipe\", index= ingr.recipe, columns=\"ingredient\", aggfunc=\"count\")\n",
    "ingr_pivot= ingr_pivot.fillna(0) \n",
    "\n",
    "print(\"#recepten:\", len(ingr_pivot.axes[0]))\n",
    "print(\"#ingrediënten:\", len(ingr_pivot.axes[1]))"
   ]
  },
  {
   "cell_type": "markdown",
   "id": "8674ab37",
   "metadata": {},
   "source": [
    "## Dezelfde ingrediënten samenvoegen als ze te veel op elkaar lijken"
   ]
  },
  {
   "cell_type": "code",
   "execution_count": 116,
   "id": "bd47d346",
   "metadata": {},
   "outputs": [],
   "source": [
    "#Variabele defineren\n",
    "ingr_pivot_columnnames= ingr_pivot.columns.values.tolist()\n",
    "lengte= len(ingr_pivot_columnnames)\n",
    "dubbele_ingr= []\n",
    "grens_ratio= 85\n",
    "ingr_pivot_copy= ingr_pivot.copy()"
   ]
  },
  {
   "cell_type": "code",
   "execution_count": 117,
   "id": "4b261487",
   "metadata": {},
   "outputs": [],
   "source": [
    "#Dubbele kolomnamen zoeken\n",
    "for i in range(lengte):\n",
    "    if i < (lengte-1):\n",
    "        Ratio = fuzz.token_sort_ratio(ingr_pivot_columnnames[i],ingr_pivot_columnnames[i+1])\n",
    "        if Ratio > grens_ratio:\n",
    "            dubbele_ingr.append((ingr_pivot_columnnames[i], ingr_pivot_columnnames[i+1]))"
   ]
  },
  {
   "cell_type": "code",
   "execution_count": 118,
   "id": "94bccf66",
   "metadata": {},
   "outputs": [
    {
     "name": "stdout",
     "output_type": "stream",
     "text": [
      "#recepten: 4616\n",
      "#ingrediënten: 4797\n"
     ]
    }
   ],
   "source": [
    "#Dubbele kolommen samenvoegen en de extra verwijderen\n",
    "ingr_pivot_copy= ingr_pivot.copy()\n",
    "for i in dubbele_ingr:\n",
    "    ingr_pivot_copy[i[1]] = ingr_pivot_copy[i[0]] + ingr_pivot_copy[i[1]]\n",
    "    ingr_pivot_copy=ingr_pivot_copy.drop([i[0]], axis=1)\n",
    "    \n",
    "print(\"#recepten:\", len(ingr_pivot_copy.axes[0]))\n",
    "print(\"#ingrediënten:\", len(ingr_pivot_copy.axes[1]))"
   ]
  },
  {
   "cell_type": "markdown",
   "id": "46321d7c",
   "metadata": {},
   "source": [
    "## filter op ingrediënten die meer dan 40x voorkomen"
   ]
  },
  {
   "cell_type": "code",
   "execution_count": 119,
   "id": "cd32746b",
   "metadata": {},
   "outputs": [
    {
     "name": "stdout",
     "output_type": "stream",
     "text": [
      "#recepten: 4556\n",
      "#ingrediënten: 166\n"
     ]
    }
   ],
   "source": [
    "ingr_pivot_copy = ingr_pivot_copy.loc[:,ingr_pivot_copy.sum()>40]\n",
    "#Alleen recepten die nog minimaal 1 ingrediënt hebben\n",
    "ingr_pivot_copy = ingr_pivot_copy.loc[ingr_pivot_copy.sum(axis=1)!=0,:]\n",
    "\n",
    "print(\"#recepten:\", len(ingr_pivot_copy.axes[0]))\n",
    "print(\"#ingrediënten:\", len(ingr_pivot_copy.axes[1]))"
   ]
  },
  {
   "cell_type": "markdown",
   "id": "c6f31507",
   "metadata": {},
   "source": [
    "# output"
   ]
  },
  {
   "cell_type": "code",
   "execution_count": 120,
   "id": "6394398a",
   "metadata": {
    "scrolled": true
   },
   "outputs": [
    {
     "name": "stdout",
     "output_type": "stream",
     "text": [
      "#recepten: 4556\n",
      "#ingrediënten: 166\n"
     ]
    },
    {
     "data": {
      "text/html": [
       "<div>\n",
       "<style scoped>\n",
       "    .dataframe tbody tr th:only-of-type {\n",
       "        vertical-align: middle;\n",
       "    }\n",
       "\n",
       "    .dataframe tbody tr th {\n",
       "        vertical-align: top;\n",
       "    }\n",
       "\n",
       "    .dataframe thead th {\n",
       "        text-align: right;\n",
       "    }\n",
       "</style>\n",
       "<table border=\"1\" class=\"dataframe\">\n",
       "  <thead>\n",
       "    <tr style=\"text-align: right;\">\n",
       "      <th>ingredient</th>\n",
       "      <th>(arachide)olie</th>\n",
       "      <th>(olijf)olie</th>\n",
       "      <th>Franse mosterd</th>\n",
       "      <th>Griekse yoghurt</th>\n",
       "      <th>Japanse sojasaus</th>\n",
       "      <th>Parmezaanse kaas</th>\n",
       "      <th>Parmigiano Reggiano</th>\n",
       "      <th>Pecorino Romano (kaas)</th>\n",
       "      <th>Tasty Tom trostomaat</th>\n",
       "      <th>aardappelen</th>\n",
       "      <th>...</th>\n",
       "      <th>water</th>\n",
       "      <th>winterpeen</th>\n",
       "      <th>witlof</th>\n",
       "      <th>witte kaas 45+</th>\n",
       "      <th>witte rijst</th>\n",
       "      <th>zilvervliesrijst</th>\n",
       "      <th>zoete aardappel</th>\n",
       "      <th>zoete chilisaus</th>\n",
       "      <th>zonnebloemolie</th>\n",
       "      <th>zout</th>\n",
       "    </tr>\n",
       "    <tr>\n",
       "      <th>recipe</th>\n",
       "      <th></th>\n",
       "      <th></th>\n",
       "      <th></th>\n",
       "      <th></th>\n",
       "      <th></th>\n",
       "      <th></th>\n",
       "      <th></th>\n",
       "      <th></th>\n",
       "      <th></th>\n",
       "      <th></th>\n",
       "      <th></th>\n",
       "      <th></th>\n",
       "      <th></th>\n",
       "      <th></th>\n",
       "      <th></th>\n",
       "      <th></th>\n",
       "      <th></th>\n",
       "      <th></th>\n",
       "      <th></th>\n",
       "      <th></th>\n",
       "      <th></th>\n",
       "    </tr>\n",
       "  </thead>\n",
       "  <tbody>\n",
       "    <tr>\n",
       "      <th>Andijviestamppot met gebakken salami</th>\n",
       "      <td>0.0</td>\n",
       "      <td>0.0</td>\n",
       "      <td>0.0</td>\n",
       "      <td>0.0</td>\n",
       "      <td>0.0</td>\n",
       "      <td>0.0</td>\n",
       "      <td>0.0</td>\n",
       "      <td>0.0</td>\n",
       "      <td>0.0</td>\n",
       "      <td>0.0</td>\n",
       "      <td>...</td>\n",
       "      <td>0.0</td>\n",
       "      <td>0.0</td>\n",
       "      <td>0.0</td>\n",
       "      <td>0.0</td>\n",
       "      <td>0.0</td>\n",
       "      <td>0.0</td>\n",
       "      <td>0.0</td>\n",
       "      <td>0.0</td>\n",
       "      <td>0.0</td>\n",
       "      <td>0.0</td>\n",
       "    </tr>\n",
       "    <tr>\n",
       "      <th>Libanese wraps met appel-koolsalade</th>\n",
       "      <td>0.0</td>\n",
       "      <td>0.0</td>\n",
       "      <td>0.0</td>\n",
       "      <td>0.0</td>\n",
       "      <td>0.0</td>\n",
       "      <td>0.0</td>\n",
       "      <td>0.0</td>\n",
       "      <td>0.0</td>\n",
       "      <td>0.0</td>\n",
       "      <td>0.0</td>\n",
       "      <td>...</td>\n",
       "      <td>0.0</td>\n",
       "      <td>0.0</td>\n",
       "      <td>0.0</td>\n",
       "      <td>0.0</td>\n",
       "      <td>0.0</td>\n",
       "      <td>0.0</td>\n",
       "      <td>0.0</td>\n",
       "      <td>0.0</td>\n",
       "      <td>0.0</td>\n",
       "      <td>0.0</td>\n",
       "    </tr>\n",
       "    <tr>\n",
       "      <th>Plaattaart met gegrilde groenten en witte kaas</th>\n",
       "      <td>0.0</td>\n",
       "      <td>0.0</td>\n",
       "      <td>0.0</td>\n",
       "      <td>0.0</td>\n",
       "      <td>0.0</td>\n",
       "      <td>0.0</td>\n",
       "      <td>0.0</td>\n",
       "      <td>0.0</td>\n",
       "      <td>0.0</td>\n",
       "      <td>0.0</td>\n",
       "      <td>...</td>\n",
       "      <td>0.0</td>\n",
       "      <td>0.0</td>\n",
       "      <td>0.0</td>\n",
       "      <td>1.0</td>\n",
       "      <td>0.0</td>\n",
       "      <td>0.0</td>\n",
       "      <td>0.0</td>\n",
       "      <td>0.0</td>\n",
       "      <td>0.0</td>\n",
       "      <td>0.0</td>\n",
       "    </tr>\n",
       "  </tbody>\n",
       "</table>\n",
       "<p>3 rows × 166 columns</p>\n",
       "</div>"
      ],
      "text/plain": [
       "ingredient                                       (arachide)olie  (olijf)olie  \\\n",
       "recipe                                                                         \n",
       " Andijviestamppot met gebakken salami                       0.0          0.0   \n",
       " Libanese wraps met appel-koolsalade                        0.0          0.0   \n",
       " Plaattaart met gegrilde groenten en witte kaas             0.0          0.0   \n",
       "\n",
       "ingredient                                       Franse mosterd  \\\n",
       "recipe                                                            \n",
       " Andijviestamppot met gebakken salami                       0.0   \n",
       " Libanese wraps met appel-koolsalade                        0.0   \n",
       " Plaattaart met gegrilde groenten en witte kaas             0.0   \n",
       "\n",
       "ingredient                                       Griekse yoghurt  \\\n",
       "recipe                                                             \n",
       " Andijviestamppot met gebakken salami                        0.0   \n",
       " Libanese wraps met appel-koolsalade                         0.0   \n",
       " Plaattaart met gegrilde groenten en witte kaas              0.0   \n",
       "\n",
       "ingredient                                       Japanse sojasaus  \\\n",
       "recipe                                                              \n",
       " Andijviestamppot met gebakken salami                         0.0   \n",
       " Libanese wraps met appel-koolsalade                          0.0   \n",
       " Plaattaart met gegrilde groenten en witte kaas               0.0   \n",
       "\n",
       "ingredient                                       Parmezaanse kaas  \\\n",
       "recipe                                                              \n",
       " Andijviestamppot met gebakken salami                         0.0   \n",
       " Libanese wraps met appel-koolsalade                          0.0   \n",
       " Plaattaart met gegrilde groenten en witte kaas               0.0   \n",
       "\n",
       "ingredient                                       Parmigiano Reggiano  \\\n",
       "recipe                                                                 \n",
       " Andijviestamppot met gebakken salami                            0.0   \n",
       " Libanese wraps met appel-koolsalade                             0.0   \n",
       " Plaattaart met gegrilde groenten en witte kaas                  0.0   \n",
       "\n",
       "ingredient                                       Pecorino Romano (kaas)  \\\n",
       "recipe                                                                    \n",
       " Andijviestamppot met gebakken salami                               0.0   \n",
       " Libanese wraps met appel-koolsalade                                0.0   \n",
       " Plaattaart met gegrilde groenten en witte kaas                     0.0   \n",
       "\n",
       "ingredient                                       Tasty Tom trostomaat  \\\n",
       "recipe                                                                  \n",
       " Andijviestamppot met gebakken salami                             0.0   \n",
       " Libanese wraps met appel-koolsalade                              0.0   \n",
       " Plaattaart met gegrilde groenten en witte kaas                   0.0   \n",
       "\n",
       "ingredient                                       aardappelen  ...  water  \\\n",
       "recipe                                                        ...          \n",
       " Andijviestamppot met gebakken salami                    0.0  ...    0.0   \n",
       " Libanese wraps met appel-koolsalade                     0.0  ...    0.0   \n",
       " Plaattaart met gegrilde groenten en witte kaas          0.0  ...    0.0   \n",
       "\n",
       "ingredient                                       winterpeen  witlof  \\\n",
       "recipe                                                                \n",
       " Andijviestamppot met gebakken salami                   0.0     0.0   \n",
       " Libanese wraps met appel-koolsalade                    0.0     0.0   \n",
       " Plaattaart met gegrilde groenten en witte kaas         0.0     0.0   \n",
       "\n",
       "ingredient                                       witte kaas 45+  witte rijst  \\\n",
       "recipe                                                                         \n",
       " Andijviestamppot met gebakken salami                       0.0          0.0   \n",
       " Libanese wraps met appel-koolsalade                        0.0          0.0   \n",
       " Plaattaart met gegrilde groenten en witte kaas             1.0          0.0   \n",
       "\n",
       "ingredient                                       zilvervliesrijst  \\\n",
       "recipe                                                              \n",
       " Andijviestamppot met gebakken salami                         0.0   \n",
       " Libanese wraps met appel-koolsalade                          0.0   \n",
       " Plaattaart met gegrilde groenten en witte kaas               0.0   \n",
       "\n",
       "ingredient                                       zoete aardappel  \\\n",
       "recipe                                                             \n",
       " Andijviestamppot met gebakken salami                        0.0   \n",
       " Libanese wraps met appel-koolsalade                         0.0   \n",
       " Plaattaart met gegrilde groenten en witte kaas              0.0   \n",
       "\n",
       "ingredient                                       zoete chilisaus  \\\n",
       "recipe                                                             \n",
       " Andijviestamppot met gebakken salami                        0.0   \n",
       " Libanese wraps met appel-koolsalade                         0.0   \n",
       " Plaattaart met gegrilde groenten en witte kaas              0.0   \n",
       "\n",
       "ingredient                                       zonnebloemolie  zout  \n",
       "recipe                                                                 \n",
       " Andijviestamppot met gebakken salami                       0.0   0.0  \n",
       " Libanese wraps met appel-koolsalade                        0.0   0.0  \n",
       " Plaattaart met gegrilde groenten en witte kaas             0.0   0.0  \n",
       "\n",
       "[3 rows x 166 columns]"
      ]
     },
     "execution_count": 120,
     "metadata": {},
     "output_type": "execute_result"
    }
   ],
   "source": [
    "print(\"#recepten:\", len(ingr_pivot_copy.axes[0]))\n",
    "print(\"#ingrediënten:\", len(ingr_pivot_copy.axes[1]))\n",
    "ingr_pivot_copy.head(3)"
   ]
  },
  {
   "cell_type": "code",
   "execution_count": 28,
   "id": "fc70e7af",
   "metadata": {},
   "outputs": [],
   "source": [
    "#bestand opslaan\n",
    "ingr_pivot_copy.to_csv('ingr_pivot_lunch_diner_noten.csv')"
   ]
  }
 ],
 "metadata": {
  "kernelspec": {
   "display_name": "Python 3 (ipykernel)",
   "language": "python",
   "name": "python3"
  },
  "language_info": {
   "codemirror_mode": {
    "name": "ipython",
    "version": 3
   },
   "file_extension": ".py",
   "mimetype": "text/x-python",
   "name": "python",
   "nbconvert_exporter": "python",
   "pygments_lexer": "ipython3",
   "version": "3.9.15"
  }
 },
 "nbformat": 4,
 "nbformat_minor": 5
}
