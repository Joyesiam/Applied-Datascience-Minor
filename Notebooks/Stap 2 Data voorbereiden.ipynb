{
 "cells": [
  {
   "cell_type": "markdown",
   "id": "e0955fbd",
   "metadata": {},
   "source": [
    "# Data voorbereiden"
   ]
  },
  {
   "cell_type": "code",
   "execution_count": 1,
   "id": "88e0fc85",
   "metadata": {},
   "outputs": [],
   "source": [
    "#Libaries importeren\n",
    "import pandas as pd\n",
    "import numpy as np\n",
    "from fuzzywuzzy import fuzz"
   ]
  },
  {
   "cell_type": "code",
   "execution_count": 2,
   "id": "1f04577d",
   "metadata": {},
   "outputs": [],
   "source": [
    "#Lijst maken met alle recepten zonder noten -> csv was al door Martti gemaakt\n",
    "recepten_df=pd.read_csv(\"Generated Datasets/Filter_noten_maaltijd_DF.csv\")\n",
    "recepten_zonder_noten = recepten_df.iloc[:,0].tolist()"
   ]
  },
  {
   "cell_type": "code",
   "execution_count": 3,
   "id": "7b56e117",
   "metadata": {},
   "outputs": [
    {
     "name": "stdout",
     "output_type": "stream",
     "text": [
      "#recepten: 71809\n"
     ]
    }
   ],
   "source": [
    "#Data ophalen\n",
    "tags = pd.read_csv('/data/foodboost/tags.csv')\n",
    "ingr = pd.read_csv('/data/foodboost/ingredients.csv')\n",
    "print(\"#recepten:\", len(ingr.axes[0]))"
   ]
  },
  {
   "cell_type": "code",
   "execution_count": 4,
   "id": "7988d68c",
   "metadata": {},
   "outputs": [
    {
     "data": {
      "text/html": [
       "<div>\n",
       "<style scoped>\n",
       "    .dataframe tbody tr th:only-of-type {\n",
       "        vertical-align: middle;\n",
       "    }\n",
       "\n",
       "    .dataframe tbody tr th {\n",
       "        vertical-align: top;\n",
       "    }\n",
       "\n",
       "    .dataframe thead th {\n",
       "        text-align: right;\n",
       "    }\n",
       "</style>\n",
       "<table border=\"1\" class=\"dataframe\">\n",
       "  <thead>\n",
       "    <tr style=\"text-align: right;\">\n",
       "      <th></th>\n",
       "      <th>Unnamed: 0</th>\n",
       "      <th>recipe</th>\n",
       "      <th>tag</th>\n",
       "    </tr>\n",
       "  </thead>\n",
       "  <tbody>\n",
       "    <tr>\n",
       "      <th>0</th>\n",
       "      <td>0</td>\n",
       "      <td>Kruidnoten met choco-discodip</td>\n",
       "      <td>hollands</td>\n",
       "    </tr>\n",
       "    <tr>\n",
       "      <th>1</th>\n",
       "      <td>1</td>\n",
       "      <td>Kruidnoten met choco-discodip</td>\n",
       "      <td>gebak</td>\n",
       "    </tr>\n",
       "    <tr>\n",
       "      <th>2</th>\n",
       "      <td>2</td>\n",
       "      <td>Kruidnoten met choco-discodip</td>\n",
       "      <td>gebak</td>\n",
       "    </tr>\n",
       "    <tr>\n",
       "      <th>3</th>\n",
       "      <td>3</td>\n",
       "      <td>Kruidnoten met choco-discodip</td>\n",
       "      <td>sinterklaas</td>\n",
       "    </tr>\n",
       "    <tr>\n",
       "      <th>4</th>\n",
       "      <td>4</td>\n",
       "      <td>Kruidnoten met choco-discodip</td>\n",
       "      <td>sinterklaasavond</td>\n",
       "    </tr>\n",
       "  </tbody>\n",
       "</table>\n",
       "</div>"
      ],
      "text/plain": [
       "   Unnamed: 0                         recipe               tag\n",
       "0           0  Kruidnoten met choco-discodip          hollands\n",
       "1           1  Kruidnoten met choco-discodip             gebak\n",
       "2           2  Kruidnoten met choco-discodip             gebak\n",
       "3           3  Kruidnoten met choco-discodip       sinterklaas\n",
       "4           4  Kruidnoten met choco-discodip  sinterklaasavond"
      ]
     },
     "execution_count": 4,
     "metadata": {},
     "output_type": "execute_result"
    }
   ],
   "source": [
    "tags.head()"
   ]
  },
  {
   "cell_type": "markdown",
   "id": "a75297fb",
   "metadata": {},
   "source": [
    "## Filteren op maaltijd (lunch en diner) en noten"
   ]
  },
  {
   "cell_type": "code",
   "execution_count": 5,
   "id": "edb92fcc",
   "metadata": {},
   "outputs": [
    {
     "name": "stdout",
     "output_type": "stream",
     "text": [
      "#recepten: 4593\n"
     ]
    }
   ],
   "source": [
    "#toegestaande tags\n",
    "tagsmaal= ['lunch','diner','hoofdgerecht']\n",
    "#filteren op die tags en elk recept \n",
    "recepten_lunch_diner = tags[tags['tag'].str.contains('|'.join(tagsmaal))]\n",
    "recepten_lunch_diner = list(recepten_lunch_diner[\"recipe\"].unique())\n",
    "\n",
    "#recepten zowel zonder noten als de juiste maaltijd\n",
    "recepten_zonder_noten_lunch_diner = [value for value in recepten_lunch_diner if value in recepten_zonder_noten]\n",
    "print(\"#recepten:\", len(recepten_zonder_noten_lunch_diner))"
   ]
  },
  {
   "cell_type": "markdown",
   "id": "26c942ad",
   "metadata": {},
   "source": [
    "## Ingrediënten pivot tabel maken"
   ]
  },
  {
   "cell_type": "code",
   "execution_count": 6,
   "id": "a71a3c3e",
   "metadata": {},
   "outputs": [
    {
     "name": "stdout",
     "output_type": "stream",
     "text": [
      "#recepten: 8706\n",
      "#ingrediënten: 7204\n"
     ]
    }
   ],
   "source": [
    "#Een pivot tabel maken \n",
    "ingr_pivot = ingr.pivot_table(values=\"recipe\", index= ingr.recipe, columns=\"ingredient\", aggfunc=\"count\")\n",
    "ingr_pivot= ingr_pivot.fillna(0) \n",
    "\n",
    "print(\"#recepten:\", len(ingr_pivot.axes[0]))\n",
    "print(\"#ingrediënten:\", len(ingr_pivot.axes[1]))"
   ]
  },
  {
   "cell_type": "code",
   "execution_count": 7,
   "id": "769e3688",
   "metadata": {},
   "outputs": [
    {
     "name": "stdout",
     "output_type": "stream",
     "text": [
      "#recepten: 4593\n"
     ]
    }
   ],
   "source": [
    "#Ingrediënten van de recepten zonder noten en alleen lunch en diner\n",
    "ingr_pivot = ingr_pivot.loc[recepten_zonder_noten_lunch_diner]\n",
    "\n",
    "print(\"#recepten:\", len(ingr_pivot.axes[0]))"
   ]
  },
  {
   "cell_type": "code",
   "execution_count": 8,
   "id": "90d35f9b",
   "metadata": {},
   "outputs": [
    {
     "data": {
      "text/html": [
       "<div>\n",
       "<style scoped>\n",
       "    .dataframe tbody tr th:only-of-type {\n",
       "        vertical-align: middle;\n",
       "    }\n",
       "\n",
       "    .dataframe tbody tr th {\n",
       "        vertical-align: top;\n",
       "    }\n",
       "\n",
       "    .dataframe thead th {\n",
       "        text-align: right;\n",
       "    }\n",
       "</style>\n",
       "<table border=\"1\" class=\"dataframe\">\n",
       "  <thead>\n",
       "    <tr style=\"text-align: right;\">\n",
       "      <th>ingredient</th>\n",
       "      <th>&amp;amp;samhoud Tomeato gehakt</th>\n",
       "      <th>(Belgische) mayonaise</th>\n",
       "      <th>(arachide)olie</th>\n",
       "      <th>(herten)biefstukjes</th>\n",
       "      <th>(herten)biefstukken</th>\n",
       "      <th>(houdbare) melk</th>\n",
       "      <th>(magere) shoarmareepjes</th>\n",
       "      <th>(olijf)olie</th>\n",
       "      <th>(scharrel)braadworst</th>\n",
       "      <th>(wilde) perzik</th>\n",
       "      <th>...</th>\n",
       "      <th>zwarte rijst</th>\n",
       "      <th>zwarte sesamzaadje</th>\n",
       "      <th>zwarte tagliatelle</th>\n",
       "      <th>zwarte thee</th>\n",
       "      <th>zwarte-peperkorrel</th>\n",
       "      <th>zwarte-peperkorrels</th>\n",
       "      <th>zwartekersenjam</th>\n",
       "      <th>zwarteolijvenplakjes</th>\n",
       "      <th>zwartepeperkorrel</th>\n",
       "      <th>zwijnsteak</th>\n",
       "    </tr>\n",
       "    <tr>\n",
       "      <th>recipe</th>\n",
       "      <th></th>\n",
       "      <th></th>\n",
       "      <th></th>\n",
       "      <th></th>\n",
       "      <th></th>\n",
       "      <th></th>\n",
       "      <th></th>\n",
       "      <th></th>\n",
       "      <th></th>\n",
       "      <th></th>\n",
       "      <th></th>\n",
       "      <th></th>\n",
       "      <th></th>\n",
       "      <th></th>\n",
       "      <th></th>\n",
       "      <th></th>\n",
       "      <th></th>\n",
       "      <th></th>\n",
       "      <th></th>\n",
       "      <th></th>\n",
       "      <th></th>\n",
       "    </tr>\n",
       "  </thead>\n",
       "  <tbody>\n",
       "    <tr>\n",
       "      <th>Tartiflette</th>\n",
       "      <td>0.0</td>\n",
       "      <td>0.0</td>\n",
       "      <td>0.0</td>\n",
       "      <td>0.0</td>\n",
       "      <td>0.0</td>\n",
       "      <td>0.0</td>\n",
       "      <td>0.0</td>\n",
       "      <td>0.0</td>\n",
       "      <td>0.0</td>\n",
       "      <td>0.0</td>\n",
       "      <td>...</td>\n",
       "      <td>0.0</td>\n",
       "      <td>0.0</td>\n",
       "      <td>0.0</td>\n",
       "      <td>0.0</td>\n",
       "      <td>0.0</td>\n",
       "      <td>0.0</td>\n",
       "      <td>0.0</td>\n",
       "      <td>0.0</td>\n",
       "      <td>0.0</td>\n",
       "      <td>0.0</td>\n",
       "    </tr>\n",
       "    <tr>\n",
       "      <th>Ajam pangang</th>\n",
       "      <td>0.0</td>\n",
       "      <td>0.0</td>\n",
       "      <td>0.0</td>\n",
       "      <td>0.0</td>\n",
       "      <td>0.0</td>\n",
       "      <td>0.0</td>\n",
       "      <td>0.0</td>\n",
       "      <td>0.0</td>\n",
       "      <td>0.0</td>\n",
       "      <td>0.0</td>\n",
       "      <td>...</td>\n",
       "      <td>0.0</td>\n",
       "      <td>0.0</td>\n",
       "      <td>0.0</td>\n",
       "      <td>0.0</td>\n",
       "      <td>0.0</td>\n",
       "      <td>0.0</td>\n",
       "      <td>0.0</td>\n",
       "      <td>0.0</td>\n",
       "      <td>0.0</td>\n",
       "      <td>0.0</td>\n",
       "    </tr>\n",
       "    <tr>\n",
       "      <th>Bloemkoolschotel</th>\n",
       "      <td>0.0</td>\n",
       "      <td>0.0</td>\n",
       "      <td>0.0</td>\n",
       "      <td>0.0</td>\n",
       "      <td>0.0</td>\n",
       "      <td>0.0</td>\n",
       "      <td>0.0</td>\n",
       "      <td>0.0</td>\n",
       "      <td>0.0</td>\n",
       "      <td>0.0</td>\n",
       "      <td>...</td>\n",
       "      <td>0.0</td>\n",
       "      <td>0.0</td>\n",
       "      <td>0.0</td>\n",
       "      <td>0.0</td>\n",
       "      <td>0.0</td>\n",
       "      <td>0.0</td>\n",
       "      <td>0.0</td>\n",
       "      <td>0.0</td>\n",
       "      <td>0.0</td>\n",
       "      <td>0.0</td>\n",
       "    </tr>\n",
       "  </tbody>\n",
       "</table>\n",
       "<p>3 rows × 7204 columns</p>\n",
       "</div>"
      ],
      "text/plain": [
       "ingredient        &amp;samhoud Tomeato gehakt  (Belgische) mayonaise  \\\n",
       "recipe                                                                 \n",
       "Tartiflette                               0.0                    0.0   \n",
       "Ajam pangang                              0.0                    0.0   \n",
       "Bloemkoolschotel                          0.0                    0.0   \n",
       "\n",
       "ingredient        (arachide)olie  (herten)biefstukjes  (herten)biefstukken  \\\n",
       "recipe                                                                       \n",
       "Tartiflette                  0.0                  0.0                  0.0   \n",
       "Ajam pangang                 0.0                  0.0                  0.0   \n",
       "Bloemkoolschotel             0.0                  0.0                  0.0   \n",
       "\n",
       "ingredient        (houdbare) melk  (magere) shoarmareepjes  (olijf)olie  \\\n",
       "recipe                                                                    \n",
       "Tartiflette                   0.0                      0.0          0.0   \n",
       "Ajam pangang                  0.0                      0.0          0.0   \n",
       "Bloemkoolschotel              0.0                      0.0          0.0   \n",
       "\n",
       "ingredient        (scharrel)braadworst  (wilde) perzik  ...  zwarte rijst  \\\n",
       "recipe                                                  ...                 \n",
       "Tartiflette                        0.0             0.0  ...           0.0   \n",
       "Ajam pangang                       0.0             0.0  ...           0.0   \n",
       "Bloemkoolschotel                   0.0             0.0  ...           0.0   \n",
       "\n",
       "ingredient        zwarte sesamzaadje  zwarte tagliatelle  zwarte thee  \\\n",
       "recipe                                                                  \n",
       "Tartiflette                      0.0                 0.0          0.0   \n",
       "Ajam pangang                     0.0                 0.0          0.0   \n",
       "Bloemkoolschotel                 0.0                 0.0          0.0   \n",
       "\n",
       "ingredient        zwarte-peperkorrel  zwarte-peperkorrels  zwartekersenjam  \\\n",
       "recipe                                                                       \n",
       "Tartiflette                      0.0                  0.0              0.0   \n",
       "Ajam pangang                     0.0                  0.0              0.0   \n",
       "Bloemkoolschotel                 0.0                  0.0              0.0   \n",
       "\n",
       "ingredient        zwarteolijvenplakjes  zwartepeperkorrel  zwijnsteak  \n",
       "recipe                                                                 \n",
       "Tartiflette                        0.0                0.0         0.0  \n",
       "Ajam pangang                       0.0                0.0         0.0  \n",
       "Bloemkoolschotel                   0.0                0.0         0.0  \n",
       "\n",
       "[3 rows x 7204 columns]"
      ]
     },
     "execution_count": 8,
     "metadata": {},
     "output_type": "execute_result"
    }
   ],
   "source": [
    "ingr_pivot.head(3)"
   ]
  },
  {
   "cell_type": "markdown",
   "id": "01d7fba9",
   "metadata": {},
   "source": [
    "## Dezelfde ingrediënten samenvoegen als ze te veel op elkaar lijken"
   ]
  },
  {
   "cell_type": "code",
   "execution_count": 9,
   "id": "bd47d346",
   "metadata": {},
   "outputs": [],
   "source": [
    "#Variabele defineren\n",
    "ingr_pivot_columnnames= ingr_pivot.columns.values.tolist()\n",
    "lengte= len(ingr_pivot_columnnames)\n",
    "dubbele_ingr= []\n",
    "grens_ratio= 85\n",
    "ingr_pivot_copy= ingr_pivot.copy()"
   ]
  },
  {
   "cell_type": "code",
   "execution_count": 10,
   "id": "4b261487",
   "metadata": {},
   "outputs": [],
   "source": [
    "#Dubbele kolomnamen zoeken\n",
    "for i in range(lengte):\n",
    "    if i < (lengte-1):\n",
    "        Ratio = fuzz.token_sort_ratio(ingr_pivot_columnnames[i],ingr_pivot_columnnames[i+1])\n",
    "        if Ratio > grens_ratio:\n",
    "            dubbele_ingr.append((ingr_pivot_columnnames[i], ingr_pivot_columnnames[i+1]))"
   ]
  },
  {
   "cell_type": "code",
   "execution_count": 11,
   "id": "94bccf66",
   "metadata": {},
   "outputs": [
    {
     "name": "stdout",
     "output_type": "stream",
     "text": [
      "#recepten: 4593\n",
      "#ingrediënten: 6774\n"
     ]
    }
   ],
   "source": [
    "#Dubbele kolommen samenvoegen en de extra verwijderen\n",
    "ingr_pivot_copy = ingr_pivot.copy()\n",
    "for i in dubbele_ingr:\n",
    "    ingr_pivot_copy[i[1]] = ingr_pivot_copy[i[0]] + ingr_pivot_copy[i[1]]\n",
    "    ingr_pivot_copy = ingr_pivot_copy.drop([i[0]], axis=1)\n",
    "    \n",
    "print(\"#recepten:\", len(ingr_pivot_copy.axes[0]))\n",
    "print(\"#ingrediënten:\", len(ingr_pivot_copy.axes[1]))"
   ]
  },
  {
   "cell_type": "markdown",
   "id": "8e41be13",
   "metadata": {},
   "source": [
    "## Filter op ingrediënten die meer dan 40x voorkomen"
   ]
  },
  {
   "cell_type": "code",
   "execution_count": 12,
   "id": "eb90c7d0",
   "metadata": {},
   "outputs": [
    {
     "name": "stdout",
     "output_type": "stream",
     "text": [
      "#recepten: 4535\n",
      "#ingrediënten: 167\n"
     ]
    }
   ],
   "source": [
    "ingr_pivot_copy = ingr_pivot_copy.loc[:,ingr_pivot_copy.sum()>40]\n",
    "#Alleen recepten die nog minimaal 1 ingrediënt hebben\n",
    "ingr_pivot_copy = ingr_pivot_copy.loc[ingr_pivot_copy.sum(axis=1)!=0,:]\n",
    "\n",
    "print(\"#recepten:\", len(ingr_pivot_copy.axes[0]))\n",
    "print(\"#ingrediënten:\", len(ingr_pivot_copy.axes[1]))"
   ]
  },
  {
   "cell_type": "markdown",
   "id": "c6f31507",
   "metadata": {},
   "source": [
    "# Output"
   ]
  },
  {
   "cell_type": "code",
   "execution_count": 13,
   "id": "6394398a",
   "metadata": {
    "scrolled": true
   },
   "outputs": [
    {
     "name": "stdout",
     "output_type": "stream",
     "text": [
      "#recepten: 4535\n",
      "#ingrediënten: 167\n"
     ]
    },
    {
     "data": {
      "text/html": [
       "<div>\n",
       "<style scoped>\n",
       "    .dataframe tbody tr th:only-of-type {\n",
       "        vertical-align: middle;\n",
       "    }\n",
       "\n",
       "    .dataframe tbody tr th {\n",
       "        vertical-align: top;\n",
       "    }\n",
       "\n",
       "    .dataframe thead th {\n",
       "        text-align: right;\n",
       "    }\n",
       "</style>\n",
       "<table border=\"1\" class=\"dataframe\">\n",
       "  <thead>\n",
       "    <tr style=\"text-align: right;\">\n",
       "      <th>ingredient</th>\n",
       "      <th>(arachide)olie</th>\n",
       "      <th>(olijf)olie</th>\n",
       "      <th>Franse mosterd</th>\n",
       "      <th>Griekse yoghurt</th>\n",
       "      <th>Japanse sojasaus</th>\n",
       "      <th>Parmezaanse kaas</th>\n",
       "      <th>Parmigiano Reggiano</th>\n",
       "      <th>Pecorino Romano (kaas)</th>\n",
       "      <th>Tasty Tom trostomaat</th>\n",
       "      <th>aardappelen</th>\n",
       "      <th>...</th>\n",
       "      <th>witlof</th>\n",
       "      <th>witte kaas 45+</th>\n",
       "      <th>witte rijst</th>\n",
       "      <th>witte wijnazijn</th>\n",
       "      <th>zilvervliesrijst</th>\n",
       "      <th>zoete aardappel</th>\n",
       "      <th>zoete chilisaus</th>\n",
       "      <th>zoete puntpaprika's</th>\n",
       "      <th>zonnebloemolie</th>\n",
       "      <th>zout</th>\n",
       "    </tr>\n",
       "    <tr>\n",
       "      <th>recipe</th>\n",
       "      <th></th>\n",
       "      <th></th>\n",
       "      <th></th>\n",
       "      <th></th>\n",
       "      <th></th>\n",
       "      <th></th>\n",
       "      <th></th>\n",
       "      <th></th>\n",
       "      <th></th>\n",
       "      <th></th>\n",
       "      <th></th>\n",
       "      <th></th>\n",
       "      <th></th>\n",
       "      <th></th>\n",
       "      <th></th>\n",
       "      <th></th>\n",
       "      <th></th>\n",
       "      <th></th>\n",
       "      <th></th>\n",
       "      <th></th>\n",
       "      <th></th>\n",
       "    </tr>\n",
       "  </thead>\n",
       "  <tbody>\n",
       "    <tr>\n",
       "      <th>Tartiflette</th>\n",
       "      <td>0.0</td>\n",
       "      <td>0.0</td>\n",
       "      <td>0.0</td>\n",
       "      <td>0.0</td>\n",
       "      <td>0.0</td>\n",
       "      <td>0.0</td>\n",
       "      <td>0.0</td>\n",
       "      <td>0.0</td>\n",
       "      <td>0.0</td>\n",
       "      <td>0.0</td>\n",
       "      <td>...</td>\n",
       "      <td>0.0</td>\n",
       "      <td>0.0</td>\n",
       "      <td>0.0</td>\n",
       "      <td>0.0</td>\n",
       "      <td>0.0</td>\n",
       "      <td>0.0</td>\n",
       "      <td>0.0</td>\n",
       "      <td>0.0</td>\n",
       "      <td>0.0</td>\n",
       "      <td>0.0</td>\n",
       "    </tr>\n",
       "    <tr>\n",
       "      <th>Ajam pangang</th>\n",
       "      <td>0.0</td>\n",
       "      <td>0.0</td>\n",
       "      <td>0.0</td>\n",
       "      <td>0.0</td>\n",
       "      <td>0.0</td>\n",
       "      <td>0.0</td>\n",
       "      <td>0.0</td>\n",
       "      <td>0.0</td>\n",
       "      <td>0.0</td>\n",
       "      <td>0.0</td>\n",
       "      <td>...</td>\n",
       "      <td>0.0</td>\n",
       "      <td>0.0</td>\n",
       "      <td>0.0</td>\n",
       "      <td>0.0</td>\n",
       "      <td>0.0</td>\n",
       "      <td>0.0</td>\n",
       "      <td>0.0</td>\n",
       "      <td>0.0</td>\n",
       "      <td>0.0</td>\n",
       "      <td>1.0</td>\n",
       "    </tr>\n",
       "    <tr>\n",
       "      <th>Bloemkoolschotel</th>\n",
       "      <td>0.0</td>\n",
       "      <td>0.0</td>\n",
       "      <td>0.0</td>\n",
       "      <td>0.0</td>\n",
       "      <td>0.0</td>\n",
       "      <td>0.0</td>\n",
       "      <td>0.0</td>\n",
       "      <td>0.0</td>\n",
       "      <td>0.0</td>\n",
       "      <td>0.0</td>\n",
       "      <td>...</td>\n",
       "      <td>0.0</td>\n",
       "      <td>0.0</td>\n",
       "      <td>0.0</td>\n",
       "      <td>0.0</td>\n",
       "      <td>0.0</td>\n",
       "      <td>0.0</td>\n",
       "      <td>0.0</td>\n",
       "      <td>0.0</td>\n",
       "      <td>0.0</td>\n",
       "      <td>0.0</td>\n",
       "    </tr>\n",
       "  </tbody>\n",
       "</table>\n",
       "<p>3 rows × 167 columns</p>\n",
       "</div>"
      ],
      "text/plain": [
       "ingredient        (arachide)olie  (olijf)olie  Franse mosterd  \\\n",
       "recipe                                                          \n",
       "Tartiflette                  0.0          0.0             0.0   \n",
       "Ajam pangang                 0.0          0.0             0.0   \n",
       "Bloemkoolschotel             0.0          0.0             0.0   \n",
       "\n",
       "ingredient        Griekse yoghurt  Japanse sojasaus  Parmezaanse kaas  \\\n",
       "recipe                                                                  \n",
       "Tartiflette                   0.0               0.0               0.0   \n",
       "Ajam pangang                  0.0               0.0               0.0   \n",
       "Bloemkoolschotel              0.0               0.0               0.0   \n",
       "\n",
       "ingredient        Parmigiano Reggiano  Pecorino Romano (kaas)  \\\n",
       "recipe                                                          \n",
       "Tartiflette                       0.0                     0.0   \n",
       "Ajam pangang                      0.0                     0.0   \n",
       "Bloemkoolschotel                  0.0                     0.0   \n",
       "\n",
       "ingredient        Tasty Tom trostomaat  aardappelen  ...  witlof  \\\n",
       "recipe                                               ...           \n",
       "Tartiflette                        0.0          0.0  ...     0.0   \n",
       "Ajam pangang                       0.0          0.0  ...     0.0   \n",
       "Bloemkoolschotel                   0.0          0.0  ...     0.0   \n",
       "\n",
       "ingredient        witte kaas 45+  witte rijst  witte wijnazijn  \\\n",
       "recipe                                                           \n",
       "Tartiflette                  0.0          0.0              0.0   \n",
       "Ajam pangang                 0.0          0.0              0.0   \n",
       "Bloemkoolschotel             0.0          0.0              0.0   \n",
       "\n",
       "ingredient        zilvervliesrijst  zoete aardappel  zoete chilisaus  \\\n",
       "recipe                                                                 \n",
       "Tartiflette                    0.0              0.0              0.0   \n",
       "Ajam pangang                   0.0              0.0              0.0   \n",
       "Bloemkoolschotel               0.0              0.0              0.0   \n",
       "\n",
       "ingredient        zoete puntpaprika's  zonnebloemolie  zout  \n",
       "recipe                                                       \n",
       "Tartiflette                       0.0             0.0   0.0  \n",
       "Ajam pangang                      0.0             0.0   1.0  \n",
       "Bloemkoolschotel                  0.0             0.0   0.0  \n",
       "\n",
       "[3 rows x 167 columns]"
      ]
     },
     "execution_count": 13,
     "metadata": {},
     "output_type": "execute_result"
    }
   ],
   "source": [
    "print(\"#recepten:\", len(ingr_pivot_copy.axes[0]))\n",
    "print(\"#ingrediënten:\", len(ingr_pivot_copy.axes[1]))\n",
    "ingr_pivot_copy.head(3)"
   ]
  },
  {
   "cell_type": "code",
   "execution_count": null,
   "id": "fc70e7af",
   "metadata": {},
   "outputs": [],
   "source": [
    "#bestand opslaan\n",
    "ingr_pivot_copy.to_csv('ingr_pivot_lunch_diner_noten.csv')"
   ]
  }
 ],
 "metadata": {
  "kernelspec": {
   "display_name": "Python 3 (ipykernel)",
   "language": "python",
   "name": "python3"
  },
  "language_info": {
   "codemirror_mode": {
    "name": "ipython",
    "version": 3
   },
   "file_extension": ".py",
   "mimetype": "text/x-python",
   "name": "python",
   "nbconvert_exporter": "python",
   "pygments_lexer": "ipython3",
   "version": "3.9.15"
  }
 },
 "nbformat": 4,
 "nbformat_minor": 5
}
