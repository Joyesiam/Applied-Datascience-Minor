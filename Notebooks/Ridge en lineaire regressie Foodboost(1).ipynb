{
 "cells": [
  {
   "cell_type": "code",
   "execution_count": 1,
   "id": "89196e32",
   "metadata": {},
   "outputs": [],
   "source": [
    "import pandas as pd\n",
    "import numpy as np\n",
    "import matplotlib.pyplot as plt\n",
    "from sklearn.model_selection import train_test_split\n",
    "from sklearn.metrics import r2_score\n",
    "from sklearn.linear_model import LinearRegression, Ridge\n",
    "import warnings\n",
    "warnings.filterwarnings(\"ignore\")"
   ]
  },
  {
   "cell_type": "markdown",
   "id": "c41c9d40",
   "metadata": {},
   "source": [
    "# Dataset importeren en opschonen"
   ]
  },
  {
   "cell_type": "code",
   "execution_count": 2,
   "id": "744cca87",
   "metadata": {},
   "outputs": [
    {
     "data": {
      "text/html": [
       "<div>\n",
       "<style scoped>\n",
       "    .dataframe tbody tr th:only-of-type {\n",
       "        vertical-align: middle;\n",
       "    }\n",
       "\n",
       "    .dataframe tbody tr th {\n",
       "        vertical-align: top;\n",
       "    }\n",
       "\n",
       "    .dataframe thead th {\n",
       "        text-align: right;\n",
       "    }\n",
       "</style>\n",
       "<table border=\"1\" class=\"dataframe\">\n",
       "  <thead>\n",
       "    <tr style=\"text-align: right;\">\n",
       "      <th>nutrition</th>\n",
       "      <th>eiwit</th>\n",
       "      <th>energie</th>\n",
       "      <th>koolhydraten</th>\n",
       "      <th>natrium</th>\n",
       "      <th>vet</th>\n",
       "      <th>vezels</th>\n",
       "    </tr>\n",
       "    <tr>\n",
       "      <th>recipe</th>\n",
       "      <th></th>\n",
       "      <th></th>\n",
       "      <th></th>\n",
       "      <th></th>\n",
       "      <th></th>\n",
       "      <th></th>\n",
       "    </tr>\n",
       "  </thead>\n",
       "  <tbody>\n",
       "    <tr>\n",
       "      <th>Andijviestamppot met gebakken salami</th>\n",
       "      <td>25.0</td>\n",
       "      <td>630.0</td>\n",
       "      <td>36.0</td>\n",
       "      <td>1875.0</td>\n",
       "      <td>41.0</td>\n",
       "      <td>7.0</td>\n",
       "    </tr>\n",
       "    <tr>\n",
       "      <th>Bietensoep met selderijroom</th>\n",
       "      <td>3.0</td>\n",
       "      <td>160.0</td>\n",
       "      <td>11.0</td>\n",
       "      <td>1160.0</td>\n",
       "      <td>11.0</td>\n",
       "      <td>5.0</td>\n",
       "    </tr>\n",
       "    <tr>\n",
       "      <th>Libanese wraps met appel-koolsalade</th>\n",
       "      <td>21.0</td>\n",
       "      <td>440.0</td>\n",
       "      <td>45.0</td>\n",
       "      <td>440.0</td>\n",
       "      <td>18.0</td>\n",
       "      <td>9.0</td>\n",
       "    </tr>\n",
       "  </tbody>\n",
       "</table>\n",
       "</div>"
      ],
      "text/plain": [
       "nutrition                              eiwit  energie  koolhydraten  natrium  \\\n",
       "recipe                                                                         \n",
       " Andijviestamppot met gebakken salami   25.0    630.0          36.0   1875.0   \n",
       " Bietensoep met selderijroom             3.0    160.0          11.0   1160.0   \n",
       " Libanese wraps met appel-koolsalade    21.0    440.0          45.0    440.0   \n",
       "\n",
       "nutrition                               vet  vezels  \n",
       "recipe                                               \n",
       " Andijviestamppot met gebakken salami  41.0     7.0  \n",
       " Bietensoep met selderijroom           11.0     5.0  \n",
       " Libanese wraps met appel-koolsalade   18.0     9.0  "
      ]
     },
     "execution_count": 2,
     "metadata": {},
     "output_type": "execute_result"
    }
   ],
   "source": [
    "nutr = pd.read_csv('Datasets Foodboost/nutritions.csv')\n",
    "nurt_pivot = nutr.pivot_table(values=\"value\", index= nutr.recipe, columns=\"nutrition\", aggfunc=\"sum\")\n",
    "nurt_pivot= nurt_pivot.fillna(0) \n",
    "nurt_pivot['eiwit'] = nurt_pivot['eiwit'].str[:-1]\n",
    "nurt_pivot['energie'] = nurt_pivot['energie'].str[:-4]\n",
    "nurt_pivot['koolhydraten'] = nurt_pivot['koolhydraten'].str[:-1]\n",
    "nurt_pivot['natrium'] = nurt_pivot['natrium'].str[:-2]\n",
    "nurt_pivot['vet'] = nurt_pivot['vet'].str[:-1]\n",
    "nurt_pivot['vezels'] = nurt_pivot['vezels'].str[:-1]\n",
    "nurt_pivot['waarvan verzadigd'] = nurt_pivot['waarvan verzadigd'].str[:-1]\n",
    "nurt_pivot['waarvan suikers'] = nurt_pivot['waarvan suikers'].str[:-1]\n",
    "\n",
    "nurt_pivot = nurt_pivot.iloc[:,:-2]\n",
    "nurt_pivot = nurt_pivot.dropna()\n",
    "nurt_pivot = nurt_pivot.astype(float)\n",
    "nurt_pivot.head(3)"
   ]
  },
  {
   "cell_type": "markdown",
   "id": "3a0b449c",
   "metadata": {},
   "source": [
    "# Dataset splitsen"
   ]
  },
  {
   "cell_type": "code",
   "execution_count": 3,
   "id": "04579412",
   "metadata": {},
   "outputs": [
    {
     "data": {
      "text/html": [
       "<div>\n",
       "<style scoped>\n",
       "    .dataframe tbody tr th:only-of-type {\n",
       "        vertical-align: middle;\n",
       "    }\n",
       "\n",
       "    .dataframe tbody tr th {\n",
       "        vertical-align: top;\n",
       "    }\n",
       "\n",
       "    .dataframe thead th {\n",
       "        text-align: right;\n",
       "    }\n",
       "</style>\n",
       "<table border=\"1\" class=\"dataframe\">\n",
       "  <thead>\n",
       "    <tr style=\"text-align: right;\">\n",
       "      <th>nutrition</th>\n",
       "      <th>eiwit</th>\n",
       "      <th>energie</th>\n",
       "      <th>koolhydraten</th>\n",
       "      <th>natrium</th>\n",
       "      <th>vet</th>\n",
       "      <th>vezels</th>\n",
       "      <th>trans_vet</th>\n",
       "      <th>trans_energie</th>\n",
       "    </tr>\n",
       "    <tr>\n",
       "      <th>recipe</th>\n",
       "      <th></th>\n",
       "      <th></th>\n",
       "      <th></th>\n",
       "      <th></th>\n",
       "      <th></th>\n",
       "      <th></th>\n",
       "      <th></th>\n",
       "      <th></th>\n",
       "    </tr>\n",
       "  </thead>\n",
       "  <tbody>\n",
       "    <tr>\n",
       "      <th>Andijviestamppot met gebakken salami</th>\n",
       "      <td>25.0</td>\n",
       "      <td>630.0</td>\n",
       "      <td>36.0</td>\n",
       "      <td>1875.0</td>\n",
       "      <td>41.0</td>\n",
       "      <td>7.0</td>\n",
       "      <td>6.403124</td>\n",
       "      <td>25.099801</td>\n",
       "    </tr>\n",
       "    <tr>\n",
       "      <th>Bietensoep met selderijroom</th>\n",
       "      <td>3.0</td>\n",
       "      <td>160.0</td>\n",
       "      <td>11.0</td>\n",
       "      <td>1160.0</td>\n",
       "      <td>11.0</td>\n",
       "      <td>5.0</td>\n",
       "      <td>3.316625</td>\n",
       "      <td>12.649111</td>\n",
       "    </tr>\n",
       "    <tr>\n",
       "      <th>Libanese wraps met appel-koolsalade</th>\n",
       "      <td>21.0</td>\n",
       "      <td>440.0</td>\n",
       "      <td>45.0</td>\n",
       "      <td>440.0</td>\n",
       "      <td>18.0</td>\n",
       "      <td>9.0</td>\n",
       "      <td>4.242641</td>\n",
       "      <td>20.976177</td>\n",
       "    </tr>\n",
       "  </tbody>\n",
       "</table>\n",
       "</div>"
      ],
      "text/plain": [
       "nutrition                              eiwit  energie  koolhydraten  natrium  \\\n",
       "recipe                                                                         \n",
       " Andijviestamppot met gebakken salami   25.0    630.0          36.0   1875.0   \n",
       " Bietensoep met selderijroom             3.0    160.0          11.0   1160.0   \n",
       " Libanese wraps met appel-koolsalade    21.0    440.0          45.0    440.0   \n",
       "\n",
       "nutrition                               vet  vezels  trans_vet  trans_energie  \n",
       "recipe                                                                         \n",
       " Andijviestamppot met gebakken salami  41.0     7.0   6.403124      25.099801  \n",
       " Bietensoep met selderijroom           11.0     5.0   3.316625      12.649111  \n",
       " Libanese wraps met appel-koolsalade   18.0     9.0   4.242641      20.976177  "
      ]
     },
     "execution_count": 3,
     "metadata": {},
     "output_type": "execute_result"
    }
   ],
   "source": [
    "train_Dataset = nurt_pivot[:-1000]\n",
    "train_Dataset[\"trans_vet\"] = np.sqrt(train_Dataset[[\"vet\"]])\n",
    "train_Dataset[\"trans_energie\"] = np.sqrt(train_Dataset[[\"energie\"]])\n",
    "train_Dataset.head(3)"
   ]
  },
  {
   "cell_type": "code",
   "execution_count": 4,
   "id": "c674e5af",
   "metadata": {},
   "outputs": [
    {
     "data": {
      "text/html": [
       "<div>\n",
       "<style scoped>\n",
       "    .dataframe tbody tr th:only-of-type {\n",
       "        vertical-align: middle;\n",
       "    }\n",
       "\n",
       "    .dataframe tbody tr th {\n",
       "        vertical-align: top;\n",
       "    }\n",
       "\n",
       "    .dataframe thead th {\n",
       "        text-align: right;\n",
       "    }\n",
       "</style>\n",
       "<table border=\"1\" class=\"dataframe\">\n",
       "  <thead>\n",
       "    <tr style=\"text-align: right;\">\n",
       "      <th>nutrition</th>\n",
       "      <th>eiwit</th>\n",
       "      <th>energie</th>\n",
       "      <th>koolhydraten</th>\n",
       "      <th>natrium</th>\n",
       "      <th>vet</th>\n",
       "      <th>vezels</th>\n",
       "      <th>trans_energie</th>\n",
       "      <th>y_pred</th>\n",
       "    </tr>\n",
       "    <tr>\n",
       "      <th>recipe</th>\n",
       "      <th></th>\n",
       "      <th></th>\n",
       "      <th></th>\n",
       "      <th></th>\n",
       "      <th></th>\n",
       "      <th></th>\n",
       "      <th></th>\n",
       "      <th></th>\n",
       "    </tr>\n",
       "  </thead>\n",
       "  <tbody>\n",
       "    <tr>\n",
       "      <th>Tompouce van kabeljauw</th>\n",
       "      <td>19.0</td>\n",
       "      <td>320.0</td>\n",
       "      <td>1.0</td>\n",
       "      <td>810.0</td>\n",
       "      <td>24.0</td>\n",
       "      <td>0.0</td>\n",
       "      <td>17.888544</td>\n",
       "      <td>NaN</td>\n",
       "    </tr>\n",
       "    <tr>\n",
       "      <th>Tong met gebruinde boter &amp;amp; haricots verts</th>\n",
       "      <td>21.0</td>\n",
       "      <td>540.0</td>\n",
       "      <td>25.0</td>\n",
       "      <td>335.0</td>\n",
       "      <td>38.0</td>\n",
       "      <td>6.0</td>\n",
       "      <td>23.237900</td>\n",
       "      <td>NaN</td>\n",
       "    </tr>\n",
       "    <tr>\n",
       "      <th>Tonijn-broccoliquiche met tomaatjes en oude kaas</th>\n",
       "      <td>40.0</td>\n",
       "      <td>720.0</td>\n",
       "      <td>36.0</td>\n",
       "      <td>880.0</td>\n",
       "      <td>45.0</td>\n",
       "      <td>6.0</td>\n",
       "      <td>26.832816</td>\n",
       "      <td>NaN</td>\n",
       "    </tr>\n",
       "  </tbody>\n",
       "</table>\n",
       "</div>"
      ],
      "text/plain": [
       "nutrition                                         eiwit  energie  \\\n",
       "recipe                                                             \n",
       "Tompouce van kabeljauw                             19.0    320.0   \n",
       "Tong met gebruinde boter &amp; haricots verts      21.0    540.0   \n",
       "Tonijn-broccoliquiche met tomaatjes en oude kaas   40.0    720.0   \n",
       "\n",
       "nutrition                                         koolhydraten  natrium   vet  \\\n",
       "recipe                                                                          \n",
       "Tompouce van kabeljauw                                     1.0    810.0  24.0   \n",
       "Tong met gebruinde boter &amp; haricots verts             25.0    335.0  38.0   \n",
       "Tonijn-broccoliquiche met tomaatjes en oude kaas          36.0    880.0  45.0   \n",
       "\n",
       "nutrition                                         vezels  trans_energie  \\\n",
       "recipe                                                                    \n",
       "Tompouce van kabeljauw                               0.0      17.888544   \n",
       "Tong met gebruinde boter &amp; haricots verts        6.0      23.237900   \n",
       "Tonijn-broccoliquiche met tomaatjes en oude kaas     6.0      26.832816   \n",
       "\n",
       "nutrition                                         y_pred  \n",
       "recipe                                                    \n",
       "Tompouce van kabeljauw                               NaN  \n",
       "Tong met gebruinde boter &amp; haricots verts        NaN  \n",
       "Tonijn-broccoliquiche met tomaatjes en oude kaas     NaN  "
      ]
     },
     "execution_count": 4,
     "metadata": {},
     "output_type": "execute_result"
    }
   ],
   "source": [
    "test_Dataset = nurt_pivot[-1000:]\n",
    "#test_Dataset[\"trans_vet\"] = np.sqrt(test_Dataset[[\"vet\"]])\n",
    "test_Dataset[\"trans_energie\"] = np.sqrt(test_Dataset[[\"energie\"]])\n",
    "test_Dataset[\"y_pred\"] = np.nan\n",
    "test_Dataset.head(3)"
   ]
  },
  {
   "cell_type": "markdown",
   "id": "bd9a322f",
   "metadata": {},
   "source": [
    "## Correlatie bepalen van vet met de andere kolommen"
   ]
  },
  {
   "cell_type": "code",
   "execution_count": 5,
   "id": "093c684c",
   "metadata": {},
   "outputs": [
    {
     "name": "stdout",
     "output_type": "stream",
     "text": [
      "vezels 0.1849774398266035\n",
      "natrium 0.3032351979395765\n",
      "koolhydraten 0.30019287232827613\n",
      "energie 0.8217950106306807\n",
      "eiwit 0.5199205975990643\n"
     ]
    }
   ],
   "source": [
    "nutri_dingen = [\"vezels\", \"natrium\",\"koolhydraten\",\"energie\",\"eiwit\"]\n",
    "#tags_dingen = [\"wat eten we vandaag\",\"oven\",\"lactosevrij\",\"glutenvrij\" ]\n",
    "for i in nutri_dingen:\n",
    "    print(i, train_Dataset[\"vet\"].corr(train_Dataset[i]))"
   ]
  },
  {
   "cell_type": "code",
   "execution_count": 6,
   "id": "99724ce0",
   "metadata": {},
   "outputs": [],
   "source": [
    "# alleen de juiste kolommen selecteren\n",
    "train_Dataset = train_Dataset[[\"vet\",\"energie\"]]\n",
    "test_Dataset = test_Dataset[[\"vet\",\"energie\"]]"
   ]
  },
  {
   "cell_type": "markdown",
   "id": "56970eb3",
   "metadata": {},
   "source": [
    "# Uitschieters trainset bepalen"
   ]
  },
  {
   "cell_type": "markdown",
   "id": "4c50774c",
   "metadata": {},
   "source": [
    "## Boxplot energie"
   ]
  },
  {
   "cell_type": "code",
   "execution_count": 28,
   "id": "3bc0b695",
   "metadata": {},
   "outputs": [
    {
     "data": {
      "image/png": "[encoded data removed]",
      "text/plain": [
       "<Figure size 640x480 with 1 Axes>"
      ]
     },
     "metadata": {},
     "output_type": "display_data"
    }
   ],
   "source": [
    "plt.boxplot(train_Dataset[[\"energie\"]])\n",
    "plt.title('Boxplot energie')\n",
    "plt.xlabel('energie')\n",
    "plt.ylabel('Kcal')\n",
    "plt.show()"
   ]
  },
  {
   "cell_type": "code",
   "execution_count": 8,
   "id": "6745969e",
   "metadata": {},
   "outputs": [
    {
     "data": {
      "text/html": [
       "<div>\n",
       "<style scoped>\n",
       "    .dataframe tbody tr th:only-of-type {\n",
       "        vertical-align: middle;\n",
       "    }\n",
       "\n",
       "    .dataframe tbody tr th {\n",
       "        vertical-align: top;\n",
       "    }\n",
       "\n",
       "    .dataframe thead th {\n",
       "        text-align: right;\n",
       "    }\n",
       "</style>\n",
       "<table border=\"1\" class=\"dataframe\">\n",
       "  <thead>\n",
       "    <tr style=\"text-align: right;\">\n",
       "      <th>nutrition</th>\n",
       "      <th>energie</th>\n",
       "    </tr>\n",
       "    <tr>\n",
       "      <th>recipe</th>\n",
       "      <th></th>\n",
       "    </tr>\n",
       "  </thead>\n",
       "  <tbody>\n",
       "    <tr>\n",
       "      <th>Roggebrood met noten en bessen</th>\n",
       "      <td>3320.0</td>\n",
       "    </tr>\n",
       "    <tr>\n",
       "      <th>Adjaruli khachapuri (Georgische kaas-eibrood)</th>\n",
       "      <td>1435.0</td>\n",
       "    </tr>\n",
       "    <tr>\n",
       "      <th>Beef rendang met basmatirijst</th>\n",
       "      <td>1250.0</td>\n",
       "    </tr>\n",
       "  </tbody>\n",
       "</table>\n",
       "</div>"
      ],
      "text/plain": [
       "nutrition                                       energie\n",
       "recipe                                                 \n",
       "Roggebrood met noten en bessen                   3320.0\n",
       "Adjaruli khachapuri (Georgische kaas-eibrood)    1435.0\n",
       "Beef rendang met basmatirijst                    1250.0"
      ]
     },
     "execution_count": 8,
     "metadata": {},
     "output_type": "execute_result"
    }
   ],
   "source": [
    "train_Dataset[[\"energie\"]].sort_values(\"energie\",ascending=False).head(3)"
   ]
  },
  {
   "cell_type": "markdown",
   "id": "8f3c1ab6",
   "metadata": {},
   "source": [
    "# Boxplot vet"
   ]
  },
  {
   "cell_type": "code",
   "execution_count": 29,
   "id": "9d5c04c0",
   "metadata": {},
   "outputs": [
    {
     "data": {
      "image/png": "[encoded data removed]",
      "text/plain": [
       "<Figure size 640x480 with 1 Axes>"
      ]
     },
     "metadata": {},
     "output_type": "display_data"
    }
   ],
   "source": [
    "plt.boxplot(train_Dataset[[\"vet\"]])\n",
    "plt.title('Boxplot vet')\n",
    "plt.xlabel('Vet')\n",
    "plt.ylabel('Gram')\n",
    "plt.show()"
   ]
  },
  {
   "cell_type": "code",
   "execution_count": 10,
   "id": "62b439a0",
   "metadata": {},
   "outputs": [
    {
     "data": {
      "text/html": [
       "<div>\n",
       "<style scoped>\n",
       "    .dataframe tbody tr th:only-of-type {\n",
       "        vertical-align: middle;\n",
       "    }\n",
       "\n",
       "    .dataframe tbody tr th {\n",
       "        vertical-align: top;\n",
       "    }\n",
       "\n",
       "    .dataframe thead th {\n",
       "        text-align: right;\n",
       "    }\n",
       "</style>\n",
       "<table border=\"1\" class=\"dataframe\">\n",
       "  <thead>\n",
       "    <tr style=\"text-align: right;\">\n",
       "      <th>nutrition</th>\n",
       "      <th>vet</th>\n",
       "    </tr>\n",
       "    <tr>\n",
       "      <th>recipe</th>\n",
       "      <th></th>\n",
       "    </tr>\n",
       "  </thead>\n",
       "  <tbody>\n",
       "    <tr>\n",
       "      <th>Roggebrood met noten en bessen</th>\n",
       "      <td>112.0</td>\n",
       "    </tr>\n",
       "    <tr>\n",
       "      <th>Eend met 5 spices, sinaasappel en gember met pannenkoekjes</th>\n",
       "      <td>98.0</td>\n",
       "    </tr>\n",
       "    <tr>\n",
       "      <th>Texas style shortribs met gepofte zoete aardappel van Jord Althuizen</th>\n",
       "      <td>94.0</td>\n",
       "    </tr>\n",
       "    <tr>\n",
       "      <th>Rendang Padang van Vanja van der Leeden</th>\n",
       "      <td>91.0</td>\n",
       "    </tr>\n",
       "    <tr>\n",
       "      <th>Grand dessert</th>\n",
       "      <td>83.0</td>\n",
       "    </tr>\n",
       "  </tbody>\n",
       "</table>\n",
       "</div>"
      ],
      "text/plain": [
       "nutrition                                             vet\n",
       "recipe                                                   \n",
       "Roggebrood met noten en bessen                      112.0\n",
       "Eend met 5 spices, sinaasappel en gember met pa...   98.0\n",
       "Texas style shortribs met gepofte zoete aardapp...   94.0\n",
       "Rendang Padang van Vanja van der Leeden              91.0\n",
       "Grand dessert                                        83.0"
      ]
     },
     "execution_count": 10,
     "metadata": {},
     "output_type": "execute_result"
    }
   ],
   "source": [
    "train_Dataset[[\"vet\"]].sort_values(\"vet\",ascending=False).head(5)"
   ]
  },
  {
   "cell_type": "markdown",
   "id": "82631f4d",
   "metadata": {},
   "source": [
    "# De uitschieter uit de trainset halen"
   ]
  },
  {
   "cell_type": "code",
   "execution_count": 11,
   "id": "b52b5fc6",
   "metadata": {},
   "outputs": [
    {
     "data": {
      "text/html": [
       "<div>\n",
       "<style scoped>\n",
       "    .dataframe tbody tr th:only-of-type {\n",
       "        vertical-align: middle;\n",
       "    }\n",
       "\n",
       "    .dataframe tbody tr th {\n",
       "        vertical-align: top;\n",
       "    }\n",
       "\n",
       "    .dataframe thead th {\n",
       "        text-align: right;\n",
       "    }\n",
       "</style>\n",
       "<table border=\"1\" class=\"dataframe\">\n",
       "  <thead>\n",
       "    <tr style=\"text-align: right;\">\n",
       "      <th>nutrition</th>\n",
       "      <th>vet</th>\n",
       "      <th>energie</th>\n",
       "    </tr>\n",
       "    <tr>\n",
       "      <th>recipe</th>\n",
       "      <th></th>\n",
       "      <th></th>\n",
       "    </tr>\n",
       "  </thead>\n",
       "  <tbody>\n",
       "    <tr>\n",
       "      <th>Andijviestamppot met gebakken salami</th>\n",
       "      <td>41.0</td>\n",
       "      <td>630.0</td>\n",
       "    </tr>\n",
       "    <tr>\n",
       "      <th>Bietensoep met selderijroom</th>\n",
       "      <td>11.0</td>\n",
       "      <td>160.0</td>\n",
       "    </tr>\n",
       "    <tr>\n",
       "      <th>Libanese wraps met appel-koolsalade</th>\n",
       "      <td>18.0</td>\n",
       "      <td>440.0</td>\n",
       "    </tr>\n",
       "  </tbody>\n",
       "</table>\n",
       "</div>"
      ],
      "text/plain": [
       "nutrition                               vet  energie\n",
       "recipe                                              \n",
       " Andijviestamppot met gebakken salami  41.0    630.0\n",
       " Bietensoep met selderijroom           11.0    160.0\n",
       " Libanese wraps met appel-koolsalade   18.0    440.0"
      ]
     },
     "execution_count": 11,
     "metadata": {},
     "output_type": "execute_result"
    }
   ],
   "source": [
    "train_Dataset.drop(\"Roggebrood met noten en bessen\",axis=0, inplace=True)\n",
    "train_Dataset.head(3)"
   ]
  },
  {
   "cell_type": "markdown",
   "id": "a527845d",
   "metadata": {},
   "source": [
    "# Histogram"
   ]
  },
  {
   "cell_type": "code",
   "execution_count": 30,
   "id": "4f3f7d34",
   "metadata": {},
   "outputs": [
    {
     "data": {
      "image/png": "[encoded data removed]",
      "text/plain": [
       "<Figure size 640x480 with 1 Axes>"
      ]
     },
     "metadata": {},
     "output_type": "display_data"
    }
   ],
   "source": [
    "plt.hist(train_Dataset[[\"energie\"]])\n",
    "plt.title('Histogram energie')\n",
    "plt.xlabel('Energie')\n",
    "plt.ylabel('Kcal')\n",
    "plt.show()"
   ]
  },
  {
   "cell_type": "code",
   "execution_count": 31,
   "id": "9a6a0bfb",
   "metadata": {},
   "outputs": [
    {
     "data": {
      "image/png": "[encoded data removed]",
      "text/plain": [
       "<Figure size 640x480 with 1 Axes>"
      ]
     },
     "metadata": {},
     "output_type": "display_data"
    }
   ],
   "source": [
    "trans_energie = np.sqrt(train_Dataset[[\"energie\"]])\n",
    "plt.hist(trans_energie)\n",
    "plt.title('Histogram energie na normaliseren')\n",
    "plt.xlabel('Energie')\n",
    "plt.ylabel('Kcal')\n",
    "plt.show()"
   ]
  },
  {
   "cell_type": "code",
   "execution_count": 32,
   "id": "3cb241ba",
   "metadata": {},
   "outputs": [
    {
     "data": {
      "image/png": "[encoded data removed]",
      "text/plain": [
       "<Figure size 640x480 with 1 Axes>"
      ]
     },
     "metadata": {},
     "output_type": "display_data"
    }
   ],
   "source": [
    "plt.hist(train_Dataset[[\"vet\"]])\n",
    "plt.title('Histogram vet')\n",
    "plt.xlabel('Vet')\n",
    "plt.ylabel('Gram')\n",
    "plt.show()"
   ]
  },
  {
   "cell_type": "code",
   "execution_count": 33,
   "id": "8df74bd2",
   "metadata": {},
   "outputs": [
    {
     "data": {
      "image/png": "[encoded data removed]",
      "text/plain": [
       "<Figure size 640x480 with 1 Axes>"
      ]
     },
     "metadata": {},
     "output_type": "display_data"
    }
   ],
   "source": [
    "trans_vet = np.sqrt(train_Dataset[[\"vet\"]])\n",
    "plt.hist(trans_vet)\n",
    "plt.title('Histogram vet na normaliseren')\n",
    "plt.xlabel('Vet')\n",
    "plt.ylabel('Gram')\n",
    "plt.show()"
   ]
  },
  {
   "cell_type": "markdown",
   "id": "45221bfe",
   "metadata": {},
   "source": [
    "# Datasets transformeren"
   ]
  },
  {
   "cell_type": "code",
   "execution_count": 16,
   "id": "00cf70d1",
   "metadata": {},
   "outputs": [
    {
     "data": {
      "text/html": [
       "<div>\n",
       "<style scoped>\n",
       "    .dataframe tbody tr th:only-of-type {\n",
       "        vertical-align: middle;\n",
       "    }\n",
       "\n",
       "    .dataframe tbody tr th {\n",
       "        vertical-align: top;\n",
       "    }\n",
       "\n",
       "    .dataframe thead th {\n",
       "        text-align: right;\n",
       "    }\n",
       "</style>\n",
       "<table border=\"1\" class=\"dataframe\">\n",
       "  <thead>\n",
       "    <tr style=\"text-align: right;\">\n",
       "      <th>nutrition</th>\n",
       "      <th>vet</th>\n",
       "      <th>energie</th>\n",
       "      <th>trans_vet</th>\n",
       "      <th>trans_energie</th>\n",
       "    </tr>\n",
       "    <tr>\n",
       "      <th>recipe</th>\n",
       "      <th></th>\n",
       "      <th></th>\n",
       "      <th></th>\n",
       "      <th></th>\n",
       "    </tr>\n",
       "  </thead>\n",
       "  <tbody>\n",
       "    <tr>\n",
       "      <th>Andijviestamppot met gebakken salami</th>\n",
       "      <td>41.0</td>\n",
       "      <td>630.0</td>\n",
       "      <td>6.403124</td>\n",
       "      <td>25.099801</td>\n",
       "    </tr>\n",
       "    <tr>\n",
       "      <th>Bietensoep met selderijroom</th>\n",
       "      <td>11.0</td>\n",
       "      <td>160.0</td>\n",
       "      <td>3.316625</td>\n",
       "      <td>12.649111</td>\n",
       "    </tr>\n",
       "    <tr>\n",
       "      <th>Libanese wraps met appel-koolsalade</th>\n",
       "      <td>18.0</td>\n",
       "      <td>440.0</td>\n",
       "      <td>4.242641</td>\n",
       "      <td>20.976177</td>\n",
       "    </tr>\n",
       "  </tbody>\n",
       "</table>\n",
       "</div>"
      ],
      "text/plain": [
       "nutrition                               vet  energie  trans_vet  trans_energie\n",
       "recipe                                                                        \n",
       " Andijviestamppot met gebakken salami  41.0    630.0   6.403124      25.099801\n",
       " Bietensoep met selderijroom           11.0    160.0   3.316625      12.649111\n",
       " Libanese wraps met appel-koolsalade   18.0    440.0   4.242641      20.976177"
      ]
     },
     "execution_count": 16,
     "metadata": {},
     "output_type": "execute_result"
    }
   ],
   "source": [
    "# Dataset normaliseren\n",
    "train_Dataset[[\"trans_vet\"]] = np.sqrt(train_Dataset[[\"vet\"]])\n",
    "train_Dataset[[\"trans_energie\"]] = np.sqrt(train_Dataset[[\"energie\"]])\n",
    "train_Dataset.head(3)"
   ]
  },
  {
   "cell_type": "code",
   "execution_count": 17,
   "id": "e305b620",
   "metadata": {},
   "outputs": [
    {
     "data": {
      "text/html": [
       "<div>\n",
       "<style scoped>\n",
       "    .dataframe tbody tr th:only-of-type {\n",
       "        vertical-align: middle;\n",
       "    }\n",
       "\n",
       "    .dataframe tbody tr th {\n",
       "        vertical-align: top;\n",
       "    }\n",
       "\n",
       "    .dataframe thead th {\n",
       "        text-align: right;\n",
       "    }\n",
       "</style>\n",
       "<table border=\"1\" class=\"dataframe\">\n",
       "  <thead>\n",
       "    <tr style=\"text-align: right;\">\n",
       "      <th>nutrition</th>\n",
       "      <th>vet</th>\n",
       "      <th>energie</th>\n",
       "      <th>trans_energie</th>\n",
       "    </tr>\n",
       "    <tr>\n",
       "      <th>recipe</th>\n",
       "      <th></th>\n",
       "      <th></th>\n",
       "      <th></th>\n",
       "    </tr>\n",
       "  </thead>\n",
       "  <tbody>\n",
       "    <tr>\n",
       "      <th>Tompouce van kabeljauw</th>\n",
       "      <td>24.0</td>\n",
       "      <td>320.0</td>\n",
       "      <td>17.888544</td>\n",
       "    </tr>\n",
       "    <tr>\n",
       "      <th>Tong met gebruinde boter &amp;amp; haricots verts</th>\n",
       "      <td>38.0</td>\n",
       "      <td>540.0</td>\n",
       "      <td>23.237900</td>\n",
       "    </tr>\n",
       "    <tr>\n",
       "      <th>Tonijn-broccoliquiche met tomaatjes en oude kaas</th>\n",
       "      <td>45.0</td>\n",
       "      <td>720.0</td>\n",
       "      <td>26.832816</td>\n",
       "    </tr>\n",
       "  </tbody>\n",
       "</table>\n",
       "</div>"
      ],
      "text/plain": [
       "nutrition                                          vet  energie  trans_energie\n",
       "recipe                                                                        \n",
       "Tompouce van kabeljauw                            24.0    320.0      17.888544\n",
       "Tong met gebruinde boter &amp; haricots verts     38.0    540.0      23.237900\n",
       "Tonijn-broccoliquiche met tomaatjes en oude kaas  45.0    720.0      26.832816"
      ]
     },
     "execution_count": 17,
     "metadata": {},
     "output_type": "execute_result"
    }
   ],
   "source": [
    "test_Dataset[[\"trans_energie\"]] = np.sqrt(test_Dataset[[\"energie\"]])\n",
    "test_Dataset.head(3)"
   ]
  },
  {
   "cell_type": "markdown",
   "id": "efd8fa24",
   "metadata": {},
   "source": [
    "# Model"
   ]
  },
  {
   "cell_type": "code",
   "execution_count": 18,
   "id": "fda2df34",
   "metadata": {},
   "outputs": [],
   "source": [
    "X = train_Dataset[[\"trans_energie\"]]\n",
    "y = train_Dataset[[\"trans_vet\"]]\n",
    "X_train, X_test, y_train, y_test = train_test_split(X, y, test_size=0.33, random_state=42)"
   ]
  },
  {
   "cell_type": "code",
   "execution_count": 19,
   "id": "f4677c74",
   "metadata": {},
   "outputs": [
    {
     "data": {
      "text/html": [
       "<div>\n",
       "<style scoped>\n",
       "    .dataframe tbody tr th:only-of-type {\n",
       "        vertical-align: middle;\n",
       "    }\n",
       "\n",
       "    .dataframe tbody tr th {\n",
       "        vertical-align: top;\n",
       "    }\n",
       "\n",
       "    .dataframe thead th {\n",
       "        text-align: right;\n",
       "    }\n",
       "</style>\n",
       "<table border=\"1\" class=\"dataframe\">\n",
       "  <thead>\n",
       "    <tr style=\"text-align: right;\">\n",
       "      <th>nutrition</th>\n",
       "      <th>vet</th>\n",
       "      <th>energie</th>\n",
       "      <th>trans_energie</th>\n",
       "      <th>y_pred_reg</th>\n",
       "    </tr>\n",
       "    <tr>\n",
       "      <th>recipe</th>\n",
       "      <th></th>\n",
       "      <th></th>\n",
       "      <th></th>\n",
       "      <th></th>\n",
       "    </tr>\n",
       "  </thead>\n",
       "  <tbody>\n",
       "    <tr>\n",
       "      <th>Tompouce van kabeljauw</th>\n",
       "      <td>24.0</td>\n",
       "      <td>320.0</td>\n",
       "      <td>17.888544</td>\n",
       "      <td>15.491848</td>\n",
       "    </tr>\n",
       "    <tr>\n",
       "      <th>Tong met gebruinde boter &amp;amp; haricots verts</th>\n",
       "      <td>38.0</td>\n",
       "      <td>540.0</td>\n",
       "      <td>23.237900</td>\n",
       "      <td>26.415279</td>\n",
       "    </tr>\n",
       "    <tr>\n",
       "      <th>Tonijn-broccoliquiche met tomaatjes en oude kaas</th>\n",
       "      <td>45.0</td>\n",
       "      <td>720.0</td>\n",
       "      <td>26.832816</td>\n",
       "      <td>35.383935</td>\n",
       "    </tr>\n",
       "  </tbody>\n",
       "</table>\n",
       "</div>"
      ],
      "text/plain": [
       "nutrition                                          vet  energie  \\\n",
       "recipe                                                            \n",
       "Tompouce van kabeljauw                            24.0    320.0   \n",
       "Tong met gebruinde boter &amp; haricots verts     38.0    540.0   \n",
       "Tonijn-broccoliquiche met tomaatjes en oude kaas  45.0    720.0   \n",
       "\n",
       "nutrition                                         trans_energie  y_pred_reg  \n",
       "recipe                                                                       \n",
       "Tompouce van kabeljauw                                17.888544   15.491848  \n",
       "Tong met gebruinde boter &amp; haricots verts         23.237900   26.415279  \n",
       "Tonijn-broccoliquiche met tomaatjes en oude kaas      26.832816   35.383935  "
      ]
     },
     "execution_count": 19,
     "metadata": {},
     "output_type": "execute_result"
    }
   ],
   "source": [
    "reg = LinearRegression().fit(X_train, y_train)\n",
    "y_pred = reg.predict(test_Dataset[['trans_energie']])\n",
    "test_Dataset['y_pred_reg'] = y_pred**2\n",
    "test_Dataset.head(3)"
   ]
  },
  {
   "cell_type": "code",
   "execution_count": 20,
   "id": "6ff0ac8a",
   "metadata": {},
   "outputs": [
    {
     "data": {
      "text/plain": [
       "0.6616711309546033"
      ]
     },
     "execution_count": 20,
     "metadata": {},
     "output_type": "execute_result"
    }
   ],
   "source": [
    "#model evalueren\n",
    "reg_r2 = r2_score(test_Dataset['vet'], test_Dataset['y_pred_reg'])\n",
    "reg_r2"
   ]
  },
  {
   "cell_type": "markdown",
   "id": "bdc4d4d3",
   "metadata": {},
   "source": [
    "# Ridge"
   ]
  },
  {
   "cell_type": "code",
   "execution_count": 21,
   "id": "edb69a1b",
   "metadata": {},
   "outputs": [],
   "source": [
    "X = train_Dataset[[\"energie\"]] \n",
    "y = train_Dataset[[\"vet\"]]"
   ]
  },
  {
   "cell_type": "code",
   "execution_count": 22,
   "id": "e57be7f8",
   "metadata": {},
   "outputs": [],
   "source": [
    "clf = Ridge(alpha=1.0)\n",
    "\n",
    "clf.fit(X, y)\n",
    "y_pred = clf.predict(test_Dataset[[\"energie\"]])\n",
    "test_Dataset[[\"y_pred_ridge\"]] = y_pred\n"
   ]
  },
  {
   "cell_type": "code",
   "execution_count": 23,
   "id": "af85d8a7",
   "metadata": {},
   "outputs": [
    {
     "data": {
      "text/html": [
       "<div>\n",
       "<style scoped>\n",
       "    .dataframe tbody tr th:only-of-type {\n",
       "        vertical-align: middle;\n",
       "    }\n",
       "\n",
       "    .dataframe tbody tr th {\n",
       "        vertical-align: top;\n",
       "    }\n",
       "\n",
       "    .dataframe thead th {\n",
       "        text-align: right;\n",
       "    }\n",
       "</style>\n",
       "<table border=\"1\" class=\"dataframe\">\n",
       "  <thead>\n",
       "    <tr style=\"text-align: right;\">\n",
       "      <th>nutrition</th>\n",
       "      <th>vet</th>\n",
       "      <th>energie</th>\n",
       "      <th>trans_energie</th>\n",
       "      <th>y_pred_reg</th>\n",
       "      <th>y_pred_ridge</th>\n",
       "    </tr>\n",
       "    <tr>\n",
       "      <th>recipe</th>\n",
       "      <th></th>\n",
       "      <th></th>\n",
       "      <th></th>\n",
       "      <th></th>\n",
       "      <th></th>\n",
       "    </tr>\n",
       "  </thead>\n",
       "  <tbody>\n",
       "    <tr>\n",
       "      <th>Tompouce van kabeljauw</th>\n",
       "      <td>24.0</td>\n",
       "      <td>320.0</td>\n",
       "      <td>17.888544</td>\n",
       "      <td>15.491848</td>\n",
       "      <td>15.952393</td>\n",
       "    </tr>\n",
       "    <tr>\n",
       "      <th>Tong met gebruinde boter &amp;amp; haricots verts</th>\n",
       "      <td>38.0</td>\n",
       "      <td>540.0</td>\n",
       "      <td>23.237900</td>\n",
       "      <td>26.415279</td>\n",
       "      <td>27.119557</td>\n",
       "    </tr>\n",
       "    <tr>\n",
       "      <th>Tonijn-broccoliquiche met tomaatjes en oude kaas</th>\n",
       "      <td>45.0</td>\n",
       "      <td>720.0</td>\n",
       "      <td>26.832816</td>\n",
       "      <td>35.383935</td>\n",
       "      <td>36.256327</td>\n",
       "    </tr>\n",
       "  </tbody>\n",
       "</table>\n",
       "</div>"
      ],
      "text/plain": [
       "nutrition                                          vet  energie  \\\n",
       "recipe                                                            \n",
       "Tompouce van kabeljauw                            24.0    320.0   \n",
       "Tong met gebruinde boter &amp; haricots verts     38.0    540.0   \n",
       "Tonijn-broccoliquiche met tomaatjes en oude kaas  45.0    720.0   \n",
       "\n",
       "nutrition                                         trans_energie  y_pred_reg  \\\n",
       "recipe                                                                        \n",
       "Tompouce van kabeljauw                                17.888544   15.491848   \n",
       "Tong met gebruinde boter &amp; haricots verts         23.237900   26.415279   \n",
       "Tonijn-broccoliquiche met tomaatjes en oude kaas      26.832816   35.383935   \n",
       "\n",
       "nutrition                                         y_pred_ridge  \n",
       "recipe                                                          \n",
       "Tompouce van kabeljauw                               15.952393  \n",
       "Tong met gebruinde boter &amp; haricots verts        27.119557  \n",
       "Tonijn-broccoliquiche met tomaatjes en oude kaas     36.256327  "
      ]
     },
     "execution_count": 23,
     "metadata": {},
     "output_type": "execute_result"
    }
   ],
   "source": [
    "test_Dataset.head(3)"
   ]
  },
  {
   "cell_type": "code",
   "execution_count": 24,
   "id": "1fd56255",
   "metadata": {},
   "outputs": [
    {
     "data": {
      "text/plain": [
       "0.6588242398434692"
      ]
     },
     "execution_count": 24,
     "metadata": {},
     "output_type": "execute_result"
    }
   ],
   "source": [
    "ridge_r2 = r2_score(test_Dataset['vet'], test_Dataset['y_pred_ridge'])\n",
    "ridge_r2"
   ]
  },
  {
   "cell_type": "markdown",
   "id": "2ed1f9f2",
   "metadata": {},
   "source": [
    "# vergelijk ridge met linreg"
   ]
  },
  {
   "cell_type": "code",
   "execution_count": 25,
   "id": "b1cd8c31",
   "metadata": {},
   "outputs": [
    {
     "name": "stdout",
     "output_type": "stream",
     "text": [
      "0.6616711309546033 0.6588242398434692\n"
     ]
    }
   ],
   "source": [
    "print(reg_r2, ridge_r2)"
   ]
  }
 ],
 "metadata": {
  "kernelspec": {
   "display_name": "Python 3 (ipykernel)",
   "language": "python",
   "name": "python3"
  },
  "language_info": {
   "codemirror_mode": {
    "name": "ipython",
    "version": 3
   },
   "file_extension": ".py",
   "mimetype": "text/x-python",
   "name": "python",
   "nbconvert_exporter": "python",
   "pygments_lexer": "ipython3",
   "version": "3.9.15"
  }
 },
 "nbformat": 4,
 "nbformat_minor": 5
}
