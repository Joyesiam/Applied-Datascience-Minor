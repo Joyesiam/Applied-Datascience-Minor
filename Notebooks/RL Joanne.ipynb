{
 "cells": [
  {
   "cell_type": "code",
   "execution_count": 1,
   "id": "da7a4ae8",
   "metadata": {},
   "outputs": [
    {
     "name": "stdout",
     "output_type": "stream",
     "text": [
      "using gpu 3\n"
     ]
    }
   ],
   "source": [
    "import numpy as np\n",
    "import random\n",
    "from gym.spaces import Discrete\n",
    "import torch \n",
    "from collections import deque\n",
    "import copy\n",
    "from IPython.display import clear_output"
   ]
  },
  {
   "cell_type": "code",
   "execution_count": 2,
   "id": "49161fc2",
   "metadata": {},
   "outputs": [
    {
     "name": "stdout",
     "output_type": "stream",
     "text": [
      "Using cuda device\n"
     ]
    }
   ],
   "source": [
    "device = \"cuda\" if torch.cuda.is_available() else \"cpu\"\n",
    "print(f\"Using {device} device\")"
   ]
  },
  {
   "cell_type": "markdown",
   "id": "de473b2e",
   "metadata": {},
   "source": [
    "# Move maken"
   ]
  },
  {
   "cell_type": "code",
   "execution_count": 3,
   "id": "0b783512",
   "metadata": {},
   "outputs": [],
   "source": [
    "#Controleren of een move mag of niet\n",
    "def legal_move(x,y,z,veld,size):\n",
    "    \n",
    "    #max hoogte\n",
    "    if z > size[2] - 1:\n",
    "        return False \n",
    "    \n",
    "    #buiten lot\n",
    "    if x < 0 or x >= size[0] or y < 0 or y >= size[1]:\n",
    "        return False \n",
    "    \n",
    "    #staat al een container\n",
    "    if veld[x][y][z] != 0:\n",
    "        return False\n",
    "    \n",
    "    #container zweeft niet\n",
    "    if not veld[x][y][:z].all() != 0:\n",
    "        return False \n",
    "    \n",
    "    #container in het midden \n",
    "    if y-1 != -1 and y+1 != size[1]:\n",
    "        if veld[x][y-1][0] != 0 and veld[x][y+1][0] != 0:\n",
    "            return False \n",
    "    \n",
    "    return True  "
   ]
  },
  {
   "cell_type": "code",
   "execution_count": 4,
   "id": "782810e8",
   "metadata": {},
   "outputs": [],
   "source": [
    "# De gekozen action omzetten naar een (x,y,z) coördinaat \n",
    "def action_number_to_xyz(action,size):\n",
    "    waarde = action + 1\n",
    "    \n",
    "    #x-waarde vinden\n",
    "    for a in range(size[0] + 1):\n",
    "        if waarde <= a * (size[1] * size[2]):\n",
    "            x = a - 1\n",
    "            break \n",
    "\n",
    "    #y-waarde vinden\n",
    "    waarde_y = waarde - (x * size[1] * size[2])\n",
    "\n",
    "    for i in range(waarde_y + 1):\n",
    "        if waarde_y <= i * (size[2]):\n",
    "            y = i - 1\n",
    "            break\n",
    "    \n",
    "    #z-waarde berekenen\n",
    "    z = waarde_y - y * size[2] - 1\n",
    "\n",
    "    return x,y,z"
   ]
  },
  {
   "cell_type": "code",
   "execution_count": 5,
   "id": "66a6be60",
   "metadata": {},
   "outputs": [],
   "source": [
    "#container in de matrix neerzetten met de prioriteit\n",
    "def place_container(action, prio, speelveld,size):\n",
    "\n",
    "    x,y,z = action_number_to_xyz(action,size)\n",
    "   \n",
    "    if legal_move(x,y,z,speelveld,size):\n",
    "        speelveld[x][y][z] = prio\n",
    "        return True, speelveld\n",
    "    \n",
    "    else:\n",
    "        return False, speelveld"
   ]
  },
  {
   "cell_type": "markdown",
   "id": "9fb71f8d",
   "metadata": {},
   "source": [
    "# Environment"
   ]
  },
  {
   "cell_type": "code",
   "execution_count": 6,
   "id": "1472757e",
   "metadata": {},
   "outputs": [],
   "source": [
    "class Environment():\n",
    "\n",
    "    #action space en observation space defineren\n",
    "    def __init__(self,size,speelveld):\n",
    "        self.size = size\n",
    "        self.action_space = Discrete(int(self.size[0]*self.size[1]*self.size[2]))\n",
    "        self.observation_space = speelveld.flatten()\n",
    "        self.state = self.reset()\n",
    "        self.poging = 0\n",
    "\n",
    "    def step(self,action,prio):\n",
    "        \n",
    "        \n",
    "        if type(self.state) == tuple:\n",
    "            self.state = self.state[1]\n",
    "        \n",
    "        #container neerzetten\n",
    "        iets = place_container(action,prio,self.state.reshape(self.size),self.size)\n",
    "        \n",
    "        #Als container neergezet mag worden dan krijgt de agent een beloning\n",
    "        if iets[0]:\n",
    "            reward = 1\n",
    "            self.poging = 0\n",
    "            \n",
    "        #Anders word de agent gestraft\n",
    "        else:\n",
    "            reward = -1\n",
    "            self.poging += 1\n",
    "            \n",
    "        #Als alle plaatsen op de kade vol zijn krijgt de agent een bonus\n",
    "        if (self.state == 0).sum() == 0:\n",
    "            reward += 10\n",
    "        \n",
    "        self.state = iets[1].flatten()\n",
    "        return self.state.astype(int), reward, self.state\n",
    "\n",
    "    def reset(self):\n",
    "        #Het speelveld resetten voor een nieuwe episode/ epoch\n",
    "        self.state = np.array([([( [[0] * self.size[2]]) * self.size[1] ]) * self.size[0] ]).astype(object).flatten()\n",
    "        self.reward = 0\n",
    "        self.poging = 0\n",
    "        return self.reward, self.state\n",
    "\n",
    "    def game_over(self):\n",
    "        #is deze episode/ epoch afgelopen\n",
    "        aantal_nul = (self.state == 0).sum()\n",
    "        \n",
    "        #of er is geen plek meer op de kade\n",
    "        #of er zijn te veel pogingen gedaan om de container neer te zetten op de kade\n",
    "        if aantal_nul == 0 or self.poging >= int(self.size[0]*self.size[1]*self.size[2]) or self.poging >= aantal_nul:\n",
    "            return True\n",
    "        return False\n",
    "    \n",
    "    def state_(self):\n",
    "        return self.state\n",
    "    def action_state_(self):\n",
    "        return self.action_space"
   ]
  },
  {
   "cell_type": "markdown",
   "id": "be8876b1",
   "metadata": {},
   "source": [
    "# Agent\n"
   ]
  },
  {
   "cell_type": "code",
   "execution_count": 7,
   "id": "6548f306",
   "metadata": {},
   "outputs": [],
   "source": [
    "class myAgent():\n",
    "    def __init__(self, env):\n",
    "        #reward en envoirment aanmaken\n",
    "        self.total_rewards = 0\n",
    "        self.env = env\n",
    "        self.state_history = []\n",
    "    \n",
    "    def steps(self,action):   \n",
    "        \n",
    "        #Container neerzetten, 1 is de prioriteit van de container\n",
    "        actie = self.env.step(action , 1)  \n",
    "\n",
    "        #reward krijgen \n",
    "        self.total_rewards += actie[1]\n",
    "        return actie\n",
    "    \n",
    "    def reset(self):\n",
    "        #zich zelf resetten voor een volgende episode/ epoch\n",
    "        self.total_rewards = 0\n",
    "        return self.total_rewards\n",
    "    \n",
    "    def update_history(self, state, reward):\n",
    "        self.state_history.append((state, reward))\n",
    "    \n",
    "    def game_reward(self):\n",
    "        return self.total_rewards"
   ]
  },
  {
   "cell_type": "markdown",
   "id": "8f017413",
   "metadata": {},
   "source": [
    "# Neuraal netwerk"
   ]
  },
  {
   "cell_type": "code",
   "execution_count": 8,
   "id": "b69ff1ed",
   "metadata": {},
   "outputs": [],
   "source": [
    "size =(3,3,1)\n",
    "containers = size[0]*size[1]*size[2]\n",
    "\n",
    "l1 = containers\n",
    "l2 = 128\n",
    "l3 = 256\n",
    "l4 = containers\n",
    "\n",
    "#model aanmaken\n",
    "model = torch.nn.Sequential(\n",
    "    torch.nn.Linear(l1, l2),\n",
    "    torch.nn.ReLU(),\n",
    "    torch.nn.Linear(l2, l3),\n",
    "    torch.nn.ReLU(),\n",
    "    torch.nn.Linear(l3,l4)\n",
    ")\n",
    "\n",
    "#Elke 500 stappen word het eerste model gekopieerd naar model2 \n",
    "sync_freq = 500\n",
    "model2 = copy.deepcopy(model)        \n",
    "model2.load_state_dict(model.state_dict())    \n",
    "\n",
    "#loss functie en optimizer\n",
    "learning_rate = 0.00005\n",
    "loss_fn = torch.nn.MSELoss()\n",
    "optimizer = torch.optim.Adam(model.parameters(), lr=learning_rate)"
   ]
  },
  {
   "cell_type": "markdown",
   "id": "bd314ab2",
   "metadata": {},
   "source": [
    "# Trainen"
   ]
  },
  {
   "cell_type": "code",
   "execution_count": 9,
   "id": "ebdeb907",
   "metadata": {},
   "outputs": [],
   "source": [
    "# https://github.com/NandaKishoreJoshi/Reinforcement_Lerning/blob/main/RL_course/Ch3_Gridworld/Part%203%20-%20Deep%20Q-learning%20for%20GridWorld%20-%20Complete%20code.ipynb\n",
    "\n",
    "#parameters\n",
    "epochs = 1500\n",
    "gamma = 0.9\n",
    "mem_size = 300\n",
    "batch_size = 128\n",
    "h = 0\n",
    "sync_freq = 500 \n",
    "j=0\n",
    "\n",
    "epsilon = 1\n",
    "min_epsilon = 0.01\n",
    "epsilon_afnemen = 0.04\n",
    "wanneer_epsilon = 50\n",
    "\n",
    "a = epochs// 100\n",
    "waarde_laten_zien = a"
   ]
  },
  {
   "cell_type": "code",
   "execution_count": 10,
   "id": "5d0ed2b8",
   "metadata": {},
   "outputs": [
    {
     "name": "stdout",
     "output_type": "stream",
     "text": [
      "99 %\n"
     ]
    }
   ],
   "source": [
    "losses = [] \n",
    "speelveld = np.array([([( [[0] * size[2]]) * size[1] ]) * size[0] ]).astype(object)\n",
    "enviroment = Environment(size,speelveld)\n",
    "game_scores = []\n",
    "stappen = []\n",
    "agent = myAgent(enviroment)\n",
    "replay = deque(maxlen = mem_size)\n",
    "epsilon_ja  = False\n",
    "\n",
    "for i in range(epochs):\n",
    "    \n",
    "    #state opvragen/resetten en torch van maken\n",
    "    state_ = np.array(enviroment.reset()[1]).astype(int) + np.random.rand(1,containers)/100.0\n",
    "    state1 = torch.from_numpy(state_).float()\n",
    "    agent.reset()\n",
    "\n",
    "    while not enviroment.game_over():\n",
    "        #aantal moves totaal\n",
    "        j += 1\n",
    "        \n",
    "        #Action kiezen en maken\n",
    "        qval = model(state1)\n",
    "        qval_ = qval.data.numpy()\n",
    "        if (random.random() < epsilon): \n",
    "            action_ = enviroment.action_space.sample()\n",
    "        else:\n",
    "            action_ = np.argmax(qval_)\n",
    "        next_state, reward, iets = agent.steps(action_)\n",
    "    \n",
    "        #De nieuwe state bepalen\n",
    "        state2_ = np.array(enviroment.state_()).astype(int) + np.random.rand(1,containers)/10.0\n",
    "        state2 = torch.from_numpy(state2_).float() \n",
    "        done = True if not enviroment.game_over() else False\n",
    "        exp =  (state1, action_, reward, state2, done)\n",
    "        replay.append(exp)\n",
    "        state1 = state2\n",
    "        \n",
    "        #Ga over vorige gegevens van games heen\n",
    "        if len(replay) > batch_size:\n",
    "            minibatch = random.sample(replay, batch_size)\n",
    "            state1_batch = torch.cat([s1 for (s1,a,r,s2,d) in minibatch])\n",
    "            action_batch = torch.Tensor([a for (s1,a,r,s2,d) in minibatch])\n",
    "            reward_batch = torch.Tensor([r for (s1,a,r,s2,d) in minibatch])\n",
    "            state2_batch = torch.cat([s2 for (s1,a,r,s2,d) in minibatch])\n",
    "            done_batch = torch.Tensor([d for (s1,a,r,s2,d) in minibatch])\n",
    "            Q1 = model(state1_batch) \n",
    "            with torch.no_grad():\n",
    "                Q2 = model2(state2_batch)\n",
    "            \n",
    "            #De maximale Q-waarde vinden voor de volgende state om die te leren\n",
    "            Y = reward_batch + gamma * ((1-done_batch) * torch.max(Q2,dim=1)[0])\n",
    "            X = Q1.gather(dim=1,index=action_batch.long().unsqueeze(dim=1)).squeeze()\n",
    "            loss = loss_fn(X, Y.detach())\n",
    "            optimizer.zero_grad()\n",
    "            loss.backward()\n",
    "            losses.append(loss.item())\n",
    "            optimizer.step()\n",
    "\n",
    "            #Model overzetten naar model2 na 500 moves\n",
    "            if j % sync_freq == 0: \n",
    "                model2.load_state_dict(model.state_dict())\n",
    "    \n",
    "    #Reward van de game ophalen en opslaan\n",
    "    game_rewards = agent.game_reward()\n",
    "    game_scores.append(game_rewards)\n",
    "    \n",
    "    #waardes printen\n",
    "    if i % (waarde_laten_zien) == 0:\n",
    "        print( int((i/epochs) * 100),\"%\")\n",
    "        clear_output(wait=True) \n",
    "    \n",
    "    #epsilon laten afnemen\n",
    "    if epsilon_ja == False:\n",
    "        if i % (wanneer_epsilon) == 0:\n",
    "            if (epsilon - epsilon_afnemen) >= min_epsilon - min_epsilon * 0.1:\n",
    "                epsilon= epsilon - epsilon_afnemen\n",
    "            else:\n",
    "                epsilon_ja == True \n",
    "    \n",
    "  \n",
    "losses = np.array(losses)   "
   ]
  },
  {
   "cell_type": "markdown",
   "id": "12576a79",
   "metadata": {},
   "source": [
    "## Plot"
   ]
  },
  {
   "cell_type": "code",
   "execution_count": 11,
   "id": "3c5e1bf2",
   "metadata": {},
   "outputs": [],
   "source": [
    "from matplotlib import pylab as plt\n",
    "from numpy import median"
   ]
  },
  {
   "cell_type": "code",
   "execution_count": 12,
   "id": "74fc13fa",
   "metadata": {},
   "outputs": [
    {
     "data": {
      "image/png": "[encoded data removed]",
      "text/plain": [
       "<Figure size 640x480 with 1 Axes>"
      ]
     },
     "metadata": {},
     "output_type": "display_data"
    }
   ],
   "source": [
    "median_scores= []\n",
    "max_scores= []\n",
    "min_scores= []\n",
    "\n",
    "#data opdelen voor een duidelijkere grafiek \n",
    "chunks = [game_scores[x:x+100] for x in range(0, len(game_scores), 100)]\n",
    "for i in chunks:\n",
    "    #de median, min en max bepalen\n",
    "    median_scores.append(median(i))\n",
    "    max_scores.append(max(i))\n",
    "x = [i*100 for i in range(int(epochs/100))]\n",
    "\n",
    "#plot maken en laten zien\n",
    "plt.plot(x,max_scores, label= \"Maximum\")\n",
    "plt.plot(x,median_scores, label = \"Mediaan\")\n",
    "plt.axhline(y=19, color='r', linestyle='--', label=\"Maximale score\")\n",
    "plt.title(\"Scores 3x3x1\")\n",
    "plt.xlabel(\"Games\")\n",
    "plt.ylabel(\"Score\")\n",
    "plt.legend()\n",
    "plt.show()"
   ]
  }
 ],
 "metadata": {
  "kernelspec": {
   "display_name": "Python 3 (ipykernel)",
   "language": "python",
   "name": "python3"
  },
  "language_info": {
   "codemirror_mode": {
    "name": "ipython",
    "version": 3
   },
   "file_extension": ".py",
   "mimetype": "text/x-python",
   "name": "python",
   "nbconvert_exporter": "python",
   "pygments_lexer": "ipython3",
   "version": "3.9.13"
  }
 },
 "nbformat": 4,
 "nbformat_minor": 5
}
