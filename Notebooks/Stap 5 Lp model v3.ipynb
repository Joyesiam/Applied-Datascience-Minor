{
 "cells": [
  {
   "cell_type": "markdown",
   "id": "6e761e1d",
   "metadata": {},
   "source": [
    "#  LP-model met rating"
   ]
  },
  {
   "cell_type": "code",
   "execution_count": 1,
   "id": "93513bc8",
   "metadata": {},
   "outputs": [],
   "source": [
    "import pandas as pd\n",
    "recp = pd.read_csv('/data/foodboost/recipes.csv')\n",
    "tags = pd.read_csv('/data/foodboost/tags.csv')"
   ]
  },
  {
   "cell_type": "markdown",
   "id": "986e994b",
   "metadata": {},
   "source": [
    "# Dataset maken met alles lunch en diner recepten\n",
    "\n",
    "met receptnaam, tag en aantal calorieën\n",
    "elk recept heeft nog maar 1 tag (lunch, diner, hoofdgerecht)"
   ]
  },
  {
   "cell_type": "code",
   "execution_count": 2,
   "id": "a3c3ecf6",
   "metadata": {},
   "outputs": [],
   "source": [
    "tagsmaal= ['lunch','diner','hoofdgerecht']\n",
    "maaltijd_alles = tags[tags['tag'].str.contains('|'.join(tagsmaal))]\n",
    "maaltijd_alles=maaltijd_alles.drop_duplicates(subset=['recipe'], keep= 'first')\n",
    "recp = recp[[\"title\",\"calories\"]]\n",
    "maaltijd_alles=maaltijd_alles.merge(recp, how=\"inner\" ,right_on= \"title\",left_on=\"recipe\" ) \n",
    "maaltijd_alles = maaltijd_alles[[\"recipe\",\"tag\",\"calories\" ]]"
   ]
  },
  {
   "cell_type": "markdown",
   "id": "af708e5e",
   "metadata": {},
   "source": [
    "# Random data set maken\n",
    "Later veranderen in de echte\n",
    "\n",
    "input is een dictonary met receptnamen en ratings"
   ]
  },
  {
   "cell_type": "code",
   "execution_count": 3,
   "id": "2b507bdf",
   "metadata": {},
   "outputs": [],
   "source": [
    "#from random import randrange\n",
    "import random\n",
    "\n",
    "#random dataset maken om de code te controleren\n",
    "rondom_dict={}\n",
    "random_rij=[]\n",
    "\n",
    "while len(rondom_dict)<100:\n",
    "    random_row= random.randrange(len(maaltijd_alles))\n",
    "    if random_row not in random_rij:\n",
    "        rondom_dict[maaltijd_alles.iloc[random_row,0]] = random.randint(1, 5)\n",
    "        random_rij.append(random_row)"
   ]
  },
  {
   "cell_type": "markdown",
   "id": "f10b8e02",
   "metadata": {},
   "source": [
    "Dataframe met de random recepten"
   ]
  },
  {
   "cell_type": "code",
   "execution_count": 4,
   "id": "b30ed727",
   "metadata": {},
   "outputs": [
    {
     "data": {
      "text/html": [
       "<div>\n",
       "<style scoped>\n",
       "    .dataframe tbody tr th:only-of-type {\n",
       "        vertical-align: middle;\n",
       "    }\n",
       "\n",
       "    .dataframe tbody tr th {\n",
       "        vertical-align: top;\n",
       "    }\n",
       "\n",
       "    .dataframe thead th {\n",
       "        text-align: right;\n",
       "    }\n",
       "</style>\n",
       "<table border=\"1\" class=\"dataframe\">\n",
       "  <thead>\n",
       "    <tr style=\"text-align: right;\">\n",
       "      <th></th>\n",
       "      <th>recipe</th>\n",
       "      <th>tag</th>\n",
       "      <th>calories</th>\n",
       "      <th>ratings</th>\n",
       "    </tr>\n",
       "  </thead>\n",
       "  <tbody>\n",
       "    <tr>\n",
       "      <th>0</th>\n",
       "      <td>Romige linguine met brie, artisjok en parmaham</td>\n",
       "      <td>hoofdgerecht</td>\n",
       "      <td>675</td>\n",
       "      <td>5</td>\n",
       "    </tr>\n",
       "    <tr>\n",
       "      <th>1</th>\n",
       "      <td>Gegrilde zalm van de BBQ met dillesaus en krie...</td>\n",
       "      <td>hoofdgerecht</td>\n",
       "      <td>790</td>\n",
       "      <td>3</td>\n",
       "    </tr>\n",
       "    <tr>\n",
       "      <th>2</th>\n",
       "      <td>Noedelsoep met kip, spinazie en ei</td>\n",
       "      <td>hoofdgerecht</td>\n",
       "      <td>640</td>\n",
       "      <td>3</td>\n",
       "    </tr>\n",
       "    <tr>\n",
       "      <th>3</th>\n",
       "      <td>Spitskoolsoep met prosciuttoperline</td>\n",
       "      <td>hoofdgerecht</td>\n",
       "      <td>420</td>\n",
       "      <td>1</td>\n",
       "    </tr>\n",
       "    <tr>\n",
       "      <th>4</th>\n",
       "      <td>Hutspot met gehaktbal</td>\n",
       "      <td>hoofdgerecht</td>\n",
       "      <td>700</td>\n",
       "      <td>2</td>\n",
       "    </tr>\n",
       "  </tbody>\n",
       "</table>\n",
       "</div>"
      ],
      "text/plain": [
       "                                              recipe           tag  calories  \\\n",
       "0     Romige linguine met brie, artisjok en parmaham  hoofdgerecht       675   \n",
       "1  Gegrilde zalm van de BBQ met dillesaus en krie...  hoofdgerecht       790   \n",
       "2                 Noedelsoep met kip, spinazie en ei  hoofdgerecht       640   \n",
       "3                Spitskoolsoep met prosciuttoperline  hoofdgerecht       420   \n",
       "4                              Hutspot met gehaktbal  hoofdgerecht       700   \n",
       "\n",
       "   ratings  \n",
       "0        5  \n",
       "1        3  \n",
       "2        3  \n",
       "3        1  \n",
       "4        2  "
      ]
     },
     "execution_count": 4,
     "metadata": {},
     "output_type": "execute_result"
    }
   ],
   "source": [
    "random_maaltijden_df = maaltijd_alles[maaltijd_alles.recipe.isin(list(rondom_dict.keys()))]\n",
    "df= pd.DataFrame(rondom_dict.items(),columns=['recipe','ratings'])\n",
    "random_maaltijden_df = random_maaltijden_df.merge(df, how=\"inner\" ,right_on= \"recipe\",left_on=\"recipe\" ) \n",
    "random_maaltijden_df.head()"
   ]
  },
  {
   "cell_type": "markdown",
   "id": "17c7f92a",
   "metadata": {},
   "source": [
    "# Dictonaries maken lunch en diner\n"
   ]
  },
  {
   "cell_type": "code",
   "execution_count": 5,
   "id": "98cc33c0",
   "metadata": {},
   "outputs": [],
   "source": [
    "random_maaltijden_df_lunch= random_maaltijden_df[random_maaltijden_df[\"tag\"]==\"lunch\"]\n",
    "LUNCHES = {row[0]: [row[2], row[3]] for row in random_maaltijden_df_lunch.values}"
   ]
  },
  {
   "cell_type": "code",
   "execution_count": 6,
   "id": "701b008b",
   "metadata": {},
   "outputs": [],
   "source": [
    "random_maaltijden_df_diner= random_maaltijden_df[random_maaltijden_df[\"tag\"]!=\"lunch\"]\n",
    "DINERS = {row[0]: [row[2],row[3]] for row in random_maaltijden_df_diner.values}"
   ]
  },
  {
   "cell_type": "markdown",
   "id": "112deb12",
   "metadata": {},
   "source": [
    "# Importeer de benodigde libraries\n",
    "\n",
    "Importeer pywraplp uit de library ortools.linear_solver \n",
    "\n",
    "Importeer matplotlib.pyplot als plt"
   ]
  },
  {
   "cell_type": "code",
   "execution_count": 7,
   "id": "2a3a981c",
   "metadata": {},
   "outputs": [],
   "source": [
    "from ortools.linear_solver import pywraplp\n",
    "import matplotlib.pyplot as plt"
   ]
  },
  {
   "cell_type": "markdown",
   "id": "62e435e8",
   "metadata": {},
   "source": [
    "# Definieer de benodigde variabelen\n",
    "\n",
    "Wij willen voor het gemak 2 keer dezelfde  dictionairy hebben onder een verschillende naam.\n",
    "Deze dictionairies noemen wij MAALTIJDEN en MAALTIJDEN2.\n",
    "\n",
    "Ook maken wij een lijst (UNITS) aan met alleen de 'keys' (namen van de gerechten) van de MAALTIJDEN dictionairy en\n",
    "een lijst (DATA) met de value's (het aantal calorieën van elke maaltijd).\n",
    "\n",
    "Vervolgens maken wij 2 lijsten aan met alle dagen van de week (DAGEN) en een lijst met de afgekorte versie\n",
    "van de dagen (DAGPLT) die wij later gaan gebruiken in onze plot.\n",
    "\n",
    "Als laatste maken wij een dictionairy (AANBEVELING) aan waar de aanbevelingen in komen te staan voor de week \n",
    "en een lijst met recourses waar we een paar essentiële waarden in zetten voor de restricties (1040 is het maximaal aantal calorieën per dag en bijde 1en worden gebruikt om het maximaal aantal diners en lunches limiteren tot 1 per dag)."
   ]
  },
  {
   "cell_type": "code",
   "execution_count": 8,
   "id": "8f77c61f",
   "metadata": {},
   "outputs": [],
   "source": [
    "#Definieer de benodigde variabelen\n",
    "LUNCHES2 = LUNCHES.copy()\n",
    "\n",
    "DINERS2 = DINERS.copy()\n",
    "\n",
    "MAALTIJDEN = LUNCHES | DINERS\n",
    "\n",
    "MAALTIJDEN2 = MAALTIJDEN.copy()\n",
    "\n",
    "UNITS = list(LUNCHES.keys()) + list(DINERS.keys()) #+ list(LUNCHES_RATING.keys()) + list(DINERS_RATING.keys())\n",
    "\n",
    "DATA = list(LUNCHES.values()) +  list(DINERS.values())#, + list(LUNCHES_RATING.values()) +list(DINERS_RATING.values())\n",
    "\n",
    "DAGEN = ['Maandag', 'Dinsdag', 'Woensdag', 'Donderdag', 'Vrijdag', 'Zaterdag', 'Zondag']\n",
    "\n",
    "DAGPLT = ['Ma', 'Di', 'Wo', 'Do', 'Vr', 'Za', 'Zo']\n",
    "\n",
    "Kcal = []\n",
    "Kcal_lunch = []\n",
    "Kcal_diner = [] \n",
    "rating = []\n",
    "rating_lunch = []\n",
    "rating_diner = []\n",
    "\n",
    "AANBEVELING = {}\n",
    "\n",
    "RESOURCES = [1040, 1, 1, 1, 1]"
   ]
  },
  {
   "cell_type": "markdown",
   "id": "64b957b3",
   "metadata": {},
   "source": [
    "# Maak het LP model aan\n",
    "\n",
    "Eerst maken wij een leeg LP model aan en noemen deze solver. Hierin geven wij de naam van ons LP model mee. \n",
    "Het tweede onderdeel moet gewoon gekopieerd en geplakt worden.\n",
    "\n",
    "In stap 1 geven wij aan met welk type variabelen wij in de solver gaan werken. Deze hebben wij op integer \n",
    "(Intvar) gezet omdat wij alleen met hele recepten (kunnen) werken. \n",
    "\n",
    "In stap 2 worden de restricties toegevoegd aan het model door middel van for loops. De eerste for loop zorgt\n",
    "ervoor dat alle gekozen recepten niet de maximale caloriegrens van 1040 word overschreden. De tweede for loop\n",
    "zegt dat er maximaal maar 1 lunchrecept gekozen mag worden en de derde for loop geeft aan dat er maar 1 diner \n",
    "gekozen mag worden.\n",
    "\n",
    "In stap 3 van de solver geven we aan wat onze doelfunctie is en wat ons doel is met de doelfunctie. Ons doel \n",
    "is in dit geval om het aandat caloriën zo dicht mogelijk bij de grenswaarde te krijgen van 1040 calorieën, dus \n",
    "kiezen wij om de doelfunctie te maximaliseren (Solver.Maximize()).\n",
    "\n",
    "Vervolgens laten wij het programma zoeken naar de maximale doelfunctie en slaan wij alle gekozen recepten op\n",
    "in een lijst genaamd keuzelijst. Als de solver geen oplossing kan vinden geeft deze een melding hiervoor en word er niks opgeslagen."
   ]
  },
  {
   "cell_type": "code",
   "execution_count": 9,
   "id": "2e088baf",
   "metadata": {},
   "outputs": [],
   "source": [
    "def solve_army(UNITS, DATA, RESOURCES, dag):\n",
    "  # Create the linear solver using the CBC backend\n",
    "  solver = pywraplp.Solver('Minimize resource consumption', pywraplp.Solver.CBC_MIXED_INTEGER_PROGRAMMING)\n",
    "\n",
    "  # 1. Create the variables we want to optimize\n",
    "  units = [solver.IntVar(0, 1, unit) for unit in UNITS]\n",
    "\n",
    "  # 2. Add constraints for each resource\n",
    "  for r in enumerate(RESOURCES):\n",
    "    solver.Add(sum(DATA[u][0] * units[u] for u, _ in enumerate(units)) <= RESOURCES[0])       #max 1040 kcal\n",
    "    # solver.Add(sum(DATA[u][0] * units[u] for u, _ in enumerate(units)) >= RESOURCES[3])\n",
    "    \n",
    "  for i in range(len(LUNCHES)):\n",
    "    solver.Add(sum(units[u] for u in range(len(LUNCHES))) <= RESOURCES[1])                    #max 1 lunch\n",
    "    \n",
    "  for i in range(len(DINERS)):\n",
    "    solver.Add(sum(units[u] for u in range(len(LUNCHES), len(MAALTIJDEN))) <= RESOURCES[2])   #max 1 diner\n",
    "  \n",
    "#----------------------------------------------------------------------------------------------------\n",
    "#hoe veel gaan we de rating laten mee tellen?\n",
    "\n",
    "  # 3. Minimize the objective function\n",
    "  solver.Maximize(sum((DATA[u][0]+DATA[u][1] * 10 )* units[u] for u, _ in enumerate(units)))\n",
    "\n",
    "#----------------------------------------------------------------------------------------------------\n",
    "    \n",
    "  # Solve problem\n",
    "  status = solver.Solve()\n",
    "\n",
    "  # If an optimal solution has been found, print results\n",
    "  if status == pywraplp.Solver.OPTIMAL:\n",
    "    for u, _ in enumerate(units):\n",
    "      if units[u].solution_value() == 1:\n",
    "          KEUZELIJST.append(units[u].name())\n",
    "          AANBEVELING[dag] = KEUZELIJST\n",
    "          MAALTIJDEN.pop(units[u].name())\n",
    "          # print(KEUZELIJST)\n",
    "  else:\n",
    "      print('The solver could not find an optimal solution.')"
   ]
  },
  {
   "cell_type": "markdown",
   "id": "c5e039c3",
   "metadata": {},
   "source": [
    "# Zorg ervoor dat voor alle dagen worden ingedeeld\n",
    "\n",
    "Zorg ervoor dat de solver 7 keer word aangeroepen om voor elke dag een aanbeveling te kunnen geven."
   ]
  },
  {
   "cell_type": "code",
   "execution_count": 10,
   "id": "0e868388",
   "metadata": {},
   "outputs": [],
   "source": [
    "for i in range(7):\n",
    "    KEUZELIJST = []\n",
    "    solve_army(UNITS, DATA, RESOURCES, DAGEN[i])\n",
    "    UNITS = list(MAALTIJDEN.keys())\n",
    "    DATA = list(MAALTIJDEN.values())\n"
   ]
  },
  {
   "cell_type": "markdown",
   "id": "117213cd",
   "metadata": {},
   "source": [
    "# Uitprinten van de aanbevelingen\n",
    "\n",
    "Print voor elke dag de aanbeveling uit voor de lunch, het diner en het totaal aantal \n",
    "calorieën van de lunch en het diner."
   ]
  },
  {
   "cell_type": "code",
   "execution_count": 11,
   "id": "3b5afd12",
   "metadata": {},
   "outputs": [
    {
     "name": "stdout",
     "output_type": "stream",
     "text": [
      "\n",
      "AANBEVELINGEN VOOR DE WEEK:\n",
      "\n",
      "Maandag,    LUNCH: Kikkererwten-tonijnsalade met venkel &amp; sperziebonen\n",
      "            DINER: Romige linguine met brie, artisjok en parmaham\n",
      "            Kcal:   1040\n",
      "            rating:   9\n",
      "Dinsdag,    LUNCH: Taleggiotosti\n",
      "            DINER: Aardappelsalade met bietjes en zalm\n",
      "            Kcal:   1040\n",
      "            rating:   9\n",
      "Woensdag,    LUNCH: Bonensalade\n",
      "            DINER: Ketjapkip met rabarber\n",
      "            Kcal:   1040\n",
      "            rating:   8\n",
      "Donderdag,    LUNCH: Visburger\n",
      "            DINER: Stoofvis met salami en paprika\n",
      "            Kcal:   1020\n",
      "            rating:   10\n",
      "Vrijdag,    LUNCH: Omeletwraps\n",
      "            DINER: Quesadilla's met salsa\n",
      "            Kcal:   1040\n",
      "            rating:   8\n",
      "Zaterdag,    LUNCH: Gegrilde-preisoep met zalm\n",
      "            DINER: Knapperige oosterse rijst met vega kipstukjes\n",
      "            Kcal:   1030\n",
      "            rating:   10\n",
      "Zondag,    LUNCH: Open sandwich met appel, kaneel en amandel\n",
      "            DINER: Kip en cranberrycompote\n",
      "            Kcal:   1025\n",
      "            rating:   8\n"
     ]
    }
   ],
   "source": [
    "print()\n",
    "print(\"AANBEVELINGEN VOOR DE WEEK:\")\n",
    "print()\n",
    "for i in range(len(DAGEN)):\n",
    "    Kcal.append(MAALTIJDEN2[AANBEVELING[DAGEN[i]][0]] + MAALTIJDEN2[AANBEVELING[DAGEN[i]][1]])\n",
    "    rating.append(MAALTIJDEN2[AANBEVELING[DAGEN[i]][0]][1] + MAALTIJDEN2[AANBEVELING[DAGEN[i]][1]][1])\n",
    "    \n",
    "    Kcal_lunch.append(MAALTIJDEN2[AANBEVELING[DAGEN[i]][0]][0])\n",
    "    Kcal_diner.append(MAALTIJDEN2[AANBEVELING[DAGEN[i]][1]][0])\n",
    "    rating_lunch.append(MAALTIJDEN2[AANBEVELING[DAGEN[i]][0]][1])\n",
    "    rating_diner.append(MAALTIJDEN2[AANBEVELING[DAGEN[i]][1]][1])\n",
    "    \n",
    "    \n",
    "    \n",
    "    print(f\"{DAGEN[i]},    LUNCH: {AANBEVELING[DAGEN[i]][0]}\")\n",
    "    print(f\"            DINER: {AANBEVELING[DAGEN[i]][1]}\")\n",
    "    print(f\"            Kcal:   {MAALTIJDEN2[AANBEVELING[DAGEN[i]][0]][0] + MAALTIJDEN2[AANBEVELING[DAGEN[i]][1]][0]}\")\n",
    "    print(f\"            rating:   {MAALTIJDEN2[AANBEVELING[DAGEN[i]][0]][1] + MAALTIJDEN2[AANBEVELING[DAGEN[i]][1]][1]}\")\n",
    "    "
   ]
  },
  {
   "cell_type": "markdown",
   "id": "407566f4",
   "metadata": {},
   "source": [
    "# Maak een plot van het totaal aantal ingedeelde calorieën\n",
    "\n",
    "Eerst worden font1 en font2 toegekent. Hierin staat de betreffende font die we willen gebruiken ('family'), de kleur van de tekst ('color'), de dikte van de text ('weight') en de groote van het lettertype ('size'). font1 wordt hier gebruikt voor de titel en font2 wordt gebruikt voor de namen van de assen.\n",
    "\n",
    "Als tweede wort er een barplot gemaakt en hiervan worden de kleur bepaald, en de naam van de assen en de titel.\n",
    "\n",
    "Als laatste word de plot laten zien van het programma."
   ]
  },
  {
   "cell_type": "code",
   "execution_count": 12,
   "id": "fcaf56a7",
   "metadata": {},
   "outputs": [
    {
     "data": {
      "image/png": "[encoded data removed]",
      "text/plain": [
       "<Figure size 640x480 with 1 Axes>"
      ]
     },
     "metadata": {},
     "output_type": "display_data"
    }
   ],
   "source": [
    "font1 = {'family': 'serif',\n",
    "        'color':  'black',\n",
    "        'weight': 'bold',\n",
    "        'size': 14,\n",
    "        }\n",
    "\n",
    "font2 = {'family': 'serif',\n",
    "        'color':  'black',\n",
    "        'weight': 'bold',\n",
    "        'size': 12,\n",
    "        }\n",
    "\n",
    "plt.bar(DAGPLT, Kcal_lunch, color='grey', linewidth = 1.5)\n",
    "plt.bar(DAGPLT, Kcal_diner, bottom=Kcal_lunch, color='orange')\n",
    "plt.xlabel('Dagen', fontdict = font2)\n",
    "plt.ylabel('calorieën (Kcal)', fontdict = font2)\n",
    "plt.title(\"Weekelijkse verdeling van het aantal calorieën over lunch en diner\", fontdict = font1)\n",
    "plt.legend([\"Lunch\", \"Diner\"])\n",
    "plt.show()\n",
    "#Figuur.savefig('Kcal_verloop_per_week_V2.jpeg', dpi = 100)"
   ]
  },
  {
   "cell_type": "code",
   "execution_count": 13,
   "id": "a48a2b0c",
   "metadata": {},
   "outputs": [
    {
     "data": {
      "image/png": "[encoded data removed]",
      "text/plain": [
       "<Figure size 640x480 with 1 Axes>"
      ]
     },
     "metadata": {},
     "output_type": "display_data"
    }
   ],
   "source": [
    "font1 = {'family': 'serif',\n",
    "        'color':  'black',\n",
    "        'weight': 'bold',\n",
    "        'size': 14,\n",
    "        }\n",
    "\n",
    "font2 = {'family': 'serif',\n",
    "        'color':  'black',\n",
    "        'weight': 'bold',\n",
    "        'size': 12,\n",
    "        }\n",
    "\n",
    "plt.bar(DAGPLT, rating_lunch, color = 'grey', linewidth = 1.5)\n",
    "plt.bar(DAGPLT, rating_diner, bottom = rating_lunch, color = 'orange')\n",
    "plt.xlabel('Dagen', fontdict = font2)\n",
    "plt.ylabel('Totale rating', fontdict = font2)\n",
    "plt.title(\"Weekelijkse verdeling van de rating over lunch- en dinerrecepten\", fontdict = font1)\n",
    "plt.legend([\"Lunch\", \"Diner\"])\n",
    "plt.show()\n",
    "#Figuur.savefig('rating_verloop_per_week_V2.jpeg', dpi = 100)"
   ]
  },
  {
   "cell_type": "code",
   "execution_count": null,
   "id": "75c7bb11",
   "metadata": {},
   "outputs": [],
   "source": []
  }
 ],
 "metadata": {
  "kernelspec": {
   "display_name": "Python 3 (ipykernel)",
   "language": "python",
   "name": "python3"
  },
  "language_info": {
   "codemirror_mode": {
    "name": "ipython",
    "version": 3
   },
   "file_extension": ".py",
   "mimetype": "text/x-python",
   "name": "python",
   "nbconvert_exporter": "python",
   "pygments_lexer": "ipython3",
   "version": "3.9.15"
  }
 },
 "nbformat": 4,
 "nbformat_minor": 5
}
